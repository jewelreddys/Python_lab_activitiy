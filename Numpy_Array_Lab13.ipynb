{
  "cells": [
    {
      "cell_type": "markdown",
      "metadata": {
        "id": "view-in-github",
        "colab_type": "text"
      },
      "source": [
        "<a href=\"https://colab.research.google.com/github/jewelreddys/Python_lab_activitiy/blob/main/Numpy_Array_Lab13.ipynb\" target=\"_parent\"><img src=\"https://colab.research.google.com/assets/colab-badge.svg\" alt=\"Open In Colab\"/></a>"
      ]
    },
    {
      "cell_type": "markdown",
      "id": "ab595064",
      "metadata": {
        "id": "ab595064"
      },
      "source": [
        "# NumPy Array Creation — Detailed Primer\n",
        "\n",
        "\n",
        "Functions covered: `np.array`, `np.eye`, `np.linspace`, `np.arange`, `np.zeros`, `np.ones`, `np.random` (modern `default_rng`), `np.indices`, plus related utilities.\n",
        "\n",
        "\n",
        "\n"
      ]
    },
    {
      "cell_type": "markdown",
      "id": "524b701f",
      "metadata": {
        "id": "524b701f"
      },
      "source": [
        "## `np.array()` — create arrays from Python sequences\n",
        "\n",
        "**What it does:** Converts Python lists/tuples (or other array-like objects) into a NumPy `ndarray`.\n",
        "\n",
        "**Signature (common args):** `np.array(object, dtype=None, copy=True, order='K', subok=False, ndmin=0)`\n",
        "\n",
        "**Key points / tips:**\n",
        "- By default `np.array` tries to *infer* the `dtype`. You can pass `dtype=` to force a type.\n",
        "- `np.array` will usually **copy** from Python lists (so modifying the original list won't change the array). Use `np.asarray` or `np.array(..., copy=False)` if you want to avoid copies when possible.\n",
        "- If you pass nested lists with different lengths, NumPy creates an array with `dtype=object` (a common pitfall).\n"
      ]
    },
    {
      "cell_type": "code",
      "execution_count": 2,
      "id": "f568089a",
      "metadata": {
        "colab": {
          "base_uri": "https://localhost:8080/"
        },
        "id": "f568089a",
        "outputId": "973c604a-d8f9-44de-d1d2-b875347e5694"
      },
      "outputs": [
        {
          "output_type": "stream",
          "name": "stdout",
          "text": [
            "a: [1 2 3 4] dtype: int64 shape: (4,)\n",
            "\n",
            "2D b:\n",
            " [[1 2 3]\n",
            " [4 5 6]] \n",
            "dtype: int64 shape: (2, 3)\n",
            "\n",
            "Forced float dtype c: [1. 2. 3.] float64\n",
            "\n",
            "orig.base is [0 1 2 3 4 5]\n",
            "copy_test.base is None\n",
            "asarray_test.base is [0 1 2 3 4 5]\n"
          ]
        }
      ],
      "source": [
        "import numpy as np\n",
        "\n",
        "# Basic use\n",
        "a = np.array([1, 2, 3, 4])\n",
        "print(\"a:\", a, \"dtype:\", a.dtype, \"shape:\", a.shape)\n",
        "\n",
        "# 2D from nested lists\n",
        "b = np.array([[1, 2, 3], [4, 5, 6]])\n",
        "print(\"\\n2D b:\\n\", b, \"\\ndtype:\", b.dtype, \"shape:\", b.shape)\n",
        "\n",
        "# Forcing dtype\n",
        "c = np.array([1, 2, 3], dtype=np.float64)\n",
        "print(\"\\nForced float dtype c:\", c, c.dtype)\n",
        "\n",
        "# From an existing ndarray -> typically won't copy if dtype and order permit:\n",
        "orig = np.arange(6).reshape(2,3)\n",
        "copy_test = np.array(orig)   # by default makes a copy for safety\n",
        "asarray_test = np.asarray(orig)  # avoids copy\n",
        "print(\"\\norig.base is\", orig.base)  # None, orig owns data\n",
        "print(\"copy_test.base is\", copy_test.base)  # None (new array)\n",
        "print(\"asarray_test.base is\", asarray_test.base)  # orig, asarray returns a view (no copy) if possible\n",
        "\n",
        "# Ragged nested lists -> object dtype (avoid unless intentional)\n",
        "# ragged = np.array([[1,2],[3,4,5]]) # This line caused the ValueError\n",
        "# print(\"\\nRagged nested lists produce dtype object:\", ragged, ragged.dtype)"
      ]
    },
    {
      "cell_type": "markdown",
      "id": "72387053",
      "metadata": {
        "id": "72387053"
      },
      "source": [
        "## `np.eye()` — identity-like matrices\n",
        "\n",
        "**What it does:** Creates a 2-D array with ones on a specified diagonal and zeros elsewhere.\n",
        "\n",
        "**Signature:** `np.eye(N, M=None, k=0, dtype=float, order='C')`\n",
        "\n",
        "**Notes:**\n",
        "- `N` is the number of rows; `M` (optional) is the number of columns. If `M` is omitted, a square N×N matrix is created.\n",
        "- `k` shifts the diagonal: `k=0` main diagonal, `k>0` above main diagonal, `k<0` below.\n"
      ]
    },
    {
      "cell_type": "code",
      "execution_count": 3,
      "id": "cacb55a0",
      "metadata": {
        "colab": {
          "base_uri": "https://localhost:8080/"
        },
        "id": "cacb55a0",
        "outputId": "47f93bb5-b243-4c81-d050-48c72d71fbff"
      },
      "outputs": [
        {
          "output_type": "stream",
          "name": "stdout",
          "text": [
            "I (4x4 identity):\n",
            " [[1. 0. 0. 0.]\n",
            " [0. 1. 0. 0.]\n",
            " [0. 0. 1. 0.]\n",
            " [0. 0. 0. 1.]]\n",
            "\n",
            "I2 (3x5) with k=1 (diag shifted right):\n",
            " [[0 1 0 0 0]\n",
            " [0 0 1 0 0]\n",
            " [0 0 0 1 0]]\n"
          ]
        }
      ],
      "source": [
        "I = np.eye(4)\n",
        "print(\"I (4x4 identity):\\n\", I)\n",
        "\n",
        "I2 = np.eye(3, 5, k=1, dtype=int)\n",
        "print(\"\\nI2 (3x5) with k=1 (diag shifted right):\\n\", I2)"
      ]
    },
    {
      "cell_type": "markdown",
      "id": "51be62de",
      "metadata": {
        "id": "51be62de"
      },
      "source": [
        "## `np.linspace()` — evenly spaced samples over an interval\n",
        "\n",
        "**What it does:** Produces `num` evenly spaced samples, optionally including the endpoint.\n",
        "\n",
        "**Signature:** `np.linspace(start, stop, num=50, endpoint=True, retstep=False, dtype=None, axis=0)`\n",
        "\n",
        "**Important differences vs `arange`:**\n",
        "- `linspace` specifies the **number of points** and is therefore preferred for generating floats where you want an exact count (stable for plotting).\n",
        "- `arange` specifies a step size and can accumulate floating-point rounding errors.\n"
      ]
    },
    {
      "cell_type": "code",
      "execution_count": 4,
      "id": "68f8f91c",
      "metadata": {
        "colab": {
          "base_uri": "https://localhost:8080/"
        },
        "id": "68f8f91c",
        "outputId": "4bb6b213-479d-4a24-ac41-1331dc8e6c7a"
      },
      "outputs": [
        {
          "output_type": "stream",
          "name": "stdout",
          "text": [
            "linspace(0,1,5): [0.   0.25 0.5  0.75 1.  ]\n",
            "\n",
            "lin2 (with endpoint) = [0.   0.25 0.5  0.75 1.  ]\n",
            "step: 0.25\n",
            "\n",
            "lin3 (endpoint=False) = [0.  0.2 0.4 0.6 0.8]\n",
            "step (when endpoint=False): 0.2\n",
            "\n",
            "Dtype float32: [0.   0.25 0.5  0.75 1.  ] float32\n"
          ]
        }
      ],
      "source": [
        "# Basic linspace\n",
        "lin = np.linspace(0.0, 1.0, 5)\n",
        "print(\"linspace(0,1,5):\", lin)\n",
        "\n",
        "# endpoint control & retstep\n",
        "lin2, step = np.linspace(0, 1, 5, endpoint=True, retstep=True)\n",
        "print(\"\\nlin2 (with endpoint) =\", lin2)\n",
        "print(\"step:\", step)\n",
        "\n",
        "lin3, step3 = np.linspace(0, 1, 5, endpoint=False, retstep=True)\n",
        "print(\"\\nlin3 (endpoint=False) =\", lin3)\n",
        "print(\"step (when endpoint=False):\", step3)\n",
        "\n",
        "# dtype control\n",
        "lin_float32 = np.linspace(0, 1, 5, dtype=np.float32)\n",
        "print(\"\\nDtype float32:\", lin_float32, lin_float32.dtype)"
      ]
    },
    {
      "cell_type": "markdown",
      "id": "287404a6",
      "metadata": {
        "id": "287404a6"
      },
      "source": [
        "## `np.arange()` — ranges (like Python `range`) but producing arrays\n",
        "\n",
        "**What it does:** Returns evenly spaced values within a given interval.\n",
        "\n",
        "**Signature:** `np.arange([start,] stop[, step,], dtype=None)`\n",
        "\n",
        "**Pitfall (common):** When `step` is a float, `arange` can produce results affected by floating point rounding. For float sequences prefer `linspace` for a specific number of points.\n"
      ]
    },
    {
      "cell_type": "code",
      "execution_count": 5,
      "id": "eab5481a",
      "metadata": {
        "colab": {
          "base_uri": "https://localhost:8080/"
        },
        "id": "eab5481a",
        "outputId": "0ff4bf85-8927-47dd-8ec2-3be9db500e38"
      },
      "outputs": [
        {
          "output_type": "stream",
          "name": "stdout",
          "text": [
            "arange(0,10,2): [0 2 4 6 8]\n",
            "\n",
            "arange(0,1,0.1): [0.  0.1 0.2 0.3 0.4 0.5 0.6 0.7 0.8 0.9]\n",
            "len: 10\n",
            "\n",
            "linspace(0,1,11): [0.  0.1 0.2 0.3 0.4 0.5 0.6 0.7 0.8 0.9 1. ]\n",
            "len: 11\n"
          ]
        }
      ],
      "source": [
        "# Integer arange (exact)\n",
        "r1 = np.arange(0, 10, 2)\n",
        "print(\"arange(0,10,2):\", r1)\n",
        "\n",
        "# Float arange - caution\n",
        "r2 = np.arange(0, 1, 0.1)\n",
        "print(\"\\narange(0,1,0.1):\", r2)\n",
        "print(\"len:\", len(r2))\n",
        "\n",
        "# Compare with linspace for 11 points (recommended when you need exact endpoints)\n",
        "r3 = np.linspace(0, 1, 11)\n",
        "print(\"\\nlinspace(0,1,11):\", r3)\n",
        "print(\"len:\", len(r3))"
      ]
    },
    {
      "cell_type": "markdown",
      "id": "b5410bef",
      "metadata": {
        "id": "b5410bef"
      },
      "source": [
        "## `np.zeros()` and `np.ones()` — arrays filled with zeros/ones\n",
        "\n",
        "**What they do:** Create arrays of the requested `shape` filled with `0` or `1`.\n",
        "\n",
        "**Signatures:** `np.zeros(shape, dtype=float, order='C')` and `np.ones(shape, dtype=float, order='C')`.\n",
        "\n",
        "**Related functions:** `np.zeros_like`, `np.ones_like`, and `np.empty` (uninitialized memory — faster but unsafe if you read values before writing).\n"
      ]
    },
    {
      "cell_type": "code",
      "execution_count": 6,
      "id": "20eb18c3",
      "metadata": {
        "colab": {
          "base_uri": "https://localhost:8080/"
        },
        "id": "20eb18c3",
        "outputId": "7f103b90-89a3-42dc-c882-d74f29c5ab30"
      },
      "outputs": [
        {
          "output_type": "stream",
          "name": "stdout",
          "text": [
            "zeros:\n",
            " [[0. 0. 0.]\n",
            " [0. 0. 0.]]\n",
            "\n",
            "ones (int):\n",
            " [[1 1 1]\n",
            " [1 1 1]]\n",
            "\n",
            "zeros_like(o):\n",
            " [[0 0 0]\n",
            " [0 0 0]]\n",
            "\n",
            "empty (uninitialized) example:\n",
            " [[0.2 0.4]\n",
            " [0.6 0.8]]\n"
          ]
        }
      ],
      "source": [
        "z = np.zeros((2,3))\n",
        "o = np.ones((2,3), dtype=int)\n",
        "z_like = np.zeros_like(o)  # same shape and dtype as 'o'\n",
        "empty_example = np.empty((2,2))  # contents are uninitialized (may contain garbage)\n",
        "print(\"zeros:\\n\", z)\n",
        "print(\"\\nones (int):\\n\", o)\n",
        "print(\"\\nzeros_like(o):\\n\", z_like)\n",
        "print(\"\\nempty (uninitialized) example:\\n\", empty_example)"
      ]
    },
    {
      "cell_type": "markdown",
      "id": "c4729ba7",
      "metadata": {
        "id": "c4729ba7"
      },
      "source": [
        "## Random numbers — use the modern Generator API (`default_rng`)\n",
        "\n",
        "NumPy's newer random API (`np.random.default_rng`) is recommended over the legacy `np.random` global functions.\n",
        "\n",
        "**Why:** reproducibility, better algorithms, thread safety, clearer API.\n",
        "\n",
        "Common methods on Generator:\n",
        "- `rng.random(size)` — uniform floats in [0,1)\n",
        "- `rng.integers(low, high, size)` — random integers\n",
        "- `rng.normal(loc, scale, size)` — normal distribution\n",
        "- `rng.choice(a, size, replace, p)` — sample elements\n",
        "\n",
        "**Reproducibility:** Create a generator with a fixed seed: `rng = np.random.default_rng(12345)`.\n"
      ]
    },
    {
      "cell_type": "code",
      "execution_count": 7,
      "id": "25596982",
      "metadata": {
        "colab": {
          "base_uri": "https://localhost:8080/"
        },
        "id": "25596982",
        "outputId": "601cfa24-fb58-4bb7-9dc9-9ec34bc8ddaf"
      },
      "outputs": [
        {
          "output_type": "stream",
          "name": "stdout",
          "text": [
            "rng.random((3,3)):\n",
            " [[0.77395605 0.43887844 0.85859792]\n",
            " [0.69736803 0.09417735 0.97562235]\n",
            " [0.7611397  0.78606431 0.12811363]]\n",
            "\n",
            "rng.integers(0, 10, size=(3,)): [8 4 5]\n",
            "\n",
            "rng.normal(loc=0, scale=1, size=(3,)): [0.77779194 0.0660307  1.12724121]\n",
            "\n",
            "Legacy np.random.rand(3): [0.37454012 0.95071431 0.73199394]\n"
          ]
        }
      ],
      "source": [
        "# Modern recommended approach\n",
        "rng = np.random.default_rng(42)\n",
        "print(\"rng.random((3,3)):\\n\", rng.random((3,3)))\n",
        "\n",
        "print(\"\\nrng.integers(0, 10, size=(3,)):\", rng.integers(0, 10, size=(3,)))\n",
        "\n",
        "print(\"\\nrng.normal(loc=0, scale=1, size=(3,)):\", rng.normal(0,1,3))\n",
        "\n",
        "# Legacy API (still works) but not recommended for new code:\n",
        "np.random.seed(42)\n",
        "print(\"\\nLegacy np.random.rand(3):\", np.random.rand(3))"
      ]
    },
    {
      "cell_type": "markdown",
      "id": "35f19a70",
      "metadata": {
        "id": "35f19a70"
      },
      "source": [
        "## `np.indices()` — generate a grid of indices for given shape\n",
        "\n",
        "**What it does:** Returns an array representing the indices of a grid of the given `shape`. Useful for advanced indexing, coordinate generation, and image processing.\n",
        "\n",
        "**Signature:** `np.indices(dimensions, dtype=int, sparse=False)`\n",
        "\n",
        "**Shape of the result:** For `dimensions=(m,n)`, the result shape is `(2, m, n)` — where the first array contains row indices (0..m-1) and the second contains column indices (0..n-1).\n",
        "\n",
        "Compare to `np.meshgrid` — `indices` returns integer index grids; `meshgrid` is often used for coordinate matrices for plotting (`x`, `y` floats). `np.indices` supports `sparse=True` to save memory.\n"
      ]
    },
    {
      "cell_type": "code",
      "execution_count": 8,
      "id": "1830b396",
      "metadata": {
        "colab": {
          "base_uri": "https://localhost:8080/"
        },
        "id": "1830b396",
        "outputId": "62de37ab-4cbb-4f90-c31f-2c1a1418e66c"
      },
      "outputs": [
        {
          "output_type": "stream",
          "name": "stdout",
          "text": [
            "idx.shape: (2, 3, 4)\n",
            "\n",
            "Row indices (0..2):\n",
            " [[0 0 0 0]\n",
            " [1 1 1 1]\n",
            " [2 2 2 2]]\n",
            "\n",
            "Col indices (0..3):\n",
            " [[0 1 2 3]\n",
            " [0 1 2 3]\n",
            " [0 1 2 3]]\n",
            "\n",
            "With sparse=True shapes: [(3, 1), (1, 4)]\n",
            "Sparse row array shape: (3, 1) sparse col array shape: (1, 4)\n"
          ]
        }
      ],
      "source": [
        "idx = np.indices((3,4))\n",
        "print(\"idx.shape:\", idx.shape)  # (2, 3, 4)\n",
        "print(\"\\nRow indices (0..2):\\n\", idx[0])\n",
        "print(\"\\nCol indices (0..3):\\n\", idx[1])\n",
        "\n",
        "# Using sparse=True\n",
        "idx_sparse = np.indices((3,4), sparse=True)\n",
        "print(\"\\nWith sparse=True shapes:\", [a.shape for a in idx_sparse])\n",
        "print(\"Sparse row array shape:\", idx_sparse[0].shape, \"sparse col array shape:\", idx_sparse[1].shape)"
      ]
    },
    {
      "cell_type": "markdown",
      "id": "59e8a306",
      "metadata": {
        "id": "59e8a306"
      },
      "source": [
        "## Extra details & common pitfalls\n",
        "\n",
        "**Dtype and memory copies**\n",
        "- `np.array` from Python lists copies by default. `np.asarray` will avoid copying if the input is already an ndarray with the correct dtype.\n",
        "\n",
        "**Floating point range generation**\n",
        "- Avoid `np.arange` with floating step sizes when you need an exact number of points — prefer `np.linspace`.\n",
        "\n",
        "**Ragged nested lists**\n",
        "- Nested lists with different lengths create an object array (not a numeric array). This breaks vectorized math.\n",
        "\n",
        "**Contiguous memory / order**\n",
        "- Arrays can be C-contiguous (`order='C'`) or Fortran-contiguous (`order='F'`). Use `.flags` to inspect (`arr.flags`).\n",
        "\n",
        "**Broadcasting quick recap**\n",
        "- When combining arrays of different shapes, NumPy uses broadcasting rules: align trailing dimensions and allow dimensions of size 1 to be stretched.\n",
        "\n",
        "Examples and tips below.\n"
      ]
    },
    {
      "cell_type": "code",
      "execution_count": 9,
      "id": "056b837a",
      "metadata": {
        "colab": {
          "base_uri": "https://localhost:8080/"
        },
        "id": "056b837a",
        "outputId": "ce77e52e-b4bb-4893-d418-2846adc2603e"
      },
      "outputs": [
        {
          "output_type": "stream",
          "name": "stdout",
          "text": [
            "After modifying source list, A = [1 2 3]\n",
            "\n",
            "orig.base (None if owns data): None\n",
            "v.base (points to orig): None\n",
            "\n",
            "mat.flags:\n",
            "   C_CONTIGUOUS : True\n",
            "  F_CONTIGUOUS : False\n",
            "  OWNDATA : False\n",
            "  WRITEABLE : True\n",
            "  ALIGNED : True\n",
            "  WRITEBACKIFCOPY : False\n",
            "\n"
          ]
        }
      ],
      "source": [
        "# Demonstrate dtype & copy behavior\n",
        "import numpy as np\n",
        "py_list = [1,2,3]\n",
        "A = np.array(py_list)\n",
        "py_list[0] = 99\n",
        "print(\"After modifying source list, A =\", A)  # A is unaffected (copy)\n",
        "\n",
        "# Demonstrate asarray avoids copy when given an ndarray\n",
        "orig = np.arange(6)\n",
        "v = np.asarray(orig)  # v is a view; no copy\n",
        "print(\"\\norig.base (None if owns data):\", orig.base)\n",
        "print(\"v.base (points to orig):\", v.base)\n",
        "\n",
        "# Memory layout flags\n",
        "mat = np.arange(6).reshape(2,3)\n",
        "print(\"\\nmat.flags:\\n\", mat.flags)"
      ]
    },
    {
      "cell_type": "markdown",
      "id": "a16454b1",
      "metadata": {
        "id": "a16454b1"
      },
      "source": [
        "### Broadcasting example\n",
        "\n",
        "Add a vector to each row of a matrix — broadcasting stretches the vector to match the matrix shape.\n"
      ]
    },
    {
      "cell_type": "code",
      "execution_count": 10,
      "id": "f1567f4e",
      "metadata": {
        "colab": {
          "base_uri": "https://localhost:8080/"
        },
        "id": "f1567f4e",
        "outputId": "93284018-8106-488c-d519-a2538df8d123"
      },
      "outputs": [
        {
          "output_type": "stream",
          "name": "stdout",
          "text": [
            "M:\n",
            " [[ 0  1  2  3]\n",
            " [ 4  5  6  7]\n",
            " [ 8  9 10 11]]\n",
            "\n",
            "v: [10 20 30 40]\n",
            "\n",
            "M + v (broadcasted):\n",
            " [[10 21 32 43]\n",
            " [14 25 36 47]\n",
            " [18 29 40 51]]\n"
          ]
        }
      ],
      "source": [
        "M = np.arange(12).reshape(3,4)\n",
        "v = np.array([10,20,30,40])\n",
        "print(\"M:\\n\", M)\n",
        "print(\"\\nv:\", v)\n",
        "print(\"\\nM + v (broadcasted):\\n\", M + v)"
      ]
    }
  ],
  "metadata": {
    "colab": {
      "provenance": [],
      "include_colab_link": true
    },
    "language_info": {
      "name": "python"
    },
    "kernelspec": {
      "name": "python3",
      "display_name": "Python 3"
    }
  },
  "nbformat": 4,
  "nbformat_minor": 5
}