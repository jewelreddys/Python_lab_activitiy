{
  "cells": [
    {
      "cell_type": "markdown",
      "metadata": {
        "id": "view-in-github",
        "colab_type": "text"
      },
      "source": [
        "<a href=\"https://colab.research.google.com/github/jewelreddys/Python_lab_activitiy/blob/main/Lab_11_python_threading_1.ipynb\" target=\"_parent\"><img src=\"https://colab.research.google.com/assets/colab-badge.svg\" alt=\"Open In Colab\"/></a>"
      ]
    },
    {
      "cell_type": "code",
      "execution_count": null,
      "id": "e466d636-f3d4-43a3-96a0-538115282374",
      "metadata": {
        "id": "e466d636-f3d4-43a3-96a0-538115282374",
        "outputId": "d59a89da-baa2-4605-d455-2985df83e3ee"
      },
      "outputs": [
        {
          "name": "stdout",
          "output_type": "stream",
          "text": [
            "Sleeping 1 second...\n",
            "Done Sleeping\n",
            "Finished in 1.0 seconds\n"
          ]
        }
      ],
      "source": [
        "# We use threading when we want to significantly speed up the program, but it depends on the task that you are doing\n",
        "import time\n",
        "\n",
        "start = time.perf_counter() #using to find the time the entrirer sequecnce takes from here\n",
        "\n",
        "def do_something():\n",
        "    print('Sleeping 1 second...')\n",
        "    time.sleep(1)\n",
        "    print('Done Sleeping')\n",
        "\n",
        "do_something()\n",
        "\n",
        "finish = time.perf_counter() #using to find the time the entrirer sequecnce takes from here\n",
        "\n",
        "\n",
        "print(f'Finished in {round(finish-start,2)} seconds')"
      ]
    },
    {
      "cell_type": "code",
      "execution_count": null,
      "id": "1f099e04-a4f1-424c-8bbd-5694813fc6c3",
      "metadata": {
        "id": "1f099e04-a4f1-424c-8bbd-5694813fc6c3",
        "outputId": "924975d0-c023-4275-b351-af28ac2b147c"
      },
      "outputs": [
        {
          "name": "stdout",
          "output_type": "stream",
          "text": [
            "Sleeping 1 second...\n",
            "Done Sleeping\n",
            "Sleeping 1 second...\n",
            "Done Sleeping\n",
            "Finished in 2.0 seconds\n"
          ]
        }
      ],
      "source": [
        "# We will run the function twice\n",
        "# We use threading when we want to significantly speed up the program, but it depends on the task that you are doing\n",
        "import time\n",
        "\n",
        "start = time.perf_counter() #to find the time the entrire sequecnce takes from here\n",
        "\n",
        "def do_something():\n",
        "    print('Sleeping 1 second...')\n",
        "    time.sleep(1)\n",
        "    print('Done Sleeping')\n",
        "\n",
        "do_something()\n",
        "do_something()\n",
        "\n",
        "finish = time.perf_counter() #to find the time the entrire sequecnce till here\n",
        "\n",
        "\n",
        "print(f'Finished in {round(finish-start,2)} seconds')"
      ]
    },
    {
      "cell_type": "code",
      "execution_count": null,
      "id": "a410d34e-4a55-4763-9116-9764f8e07ee7",
      "metadata": {
        "id": "a410d34e-4a55-4763-9116-9764f8e07ee7"
      },
      "outputs": [],
      "source": [
        "# The function is not doing anything on the CPU, just waiting for a second"
      ]
    },
    {
      "cell_type": "markdown",
      "id": "bdc63dd5-8060-435a-87a1-e6046a8ca3a8",
      "metadata": {
        "id": "bdc63dd5-8060-435a-87a1-e6046a8ca3a8"
      },
      "source": [
        "![Threading Figure 1.png](attachment:c353b37d-4a4d-4c36-9f77-ff74c1c1b5cb.png)"
      ]
    },
    {
      "cell_type": "code",
      "execution_count": null,
      "id": "60d09bf3-60d3-4699-b8ad-fa23dc552837",
      "metadata": {
        "id": "60d09bf3-60d3-4699-b8ad-fa23dc552837"
      },
      "outputs": [],
      "source": [
        "#There are two kinds of tasks - CPU bound (Working on huge datasets) and I/O Bound (Not CPU intensive, just reading and writing data from disk, files, network operations, downloading files etc.,)"
      ]
    },
    {
      "cell_type": "code",
      "execution_count": null,
      "id": "ae362398-daf4-4675-8ea3-2ac85a4c950a",
      "metadata": {
        "id": "ae362398-daf4-4675-8ea3-2ac85a4c950a"
      },
      "outputs": [],
      "source": [
        "# Threading is useful in I/O Bound Tasks, but not so beneficial for CPU based tasks. Infact, threading CPU tasks can be a disadvnatage\n",
        "# with the overhead of creating and destroying threads\n",
        "# For CPU tasks, Multiprocessing is best as it can run operations in parallel\n",
        "\n",
        "# THREADS:\n",
        "# Threads do not run the code at the sametime\n",
        "# It just gives the illusion of running code at the same time because when it comes to a point it has to wait,\n",
        "# it is just going to move further in the script and run other code while the i/o opertions finish\n"
      ]
    },
    {
      "cell_type": "markdown",
      "id": "8e8194de-ec2f-427f-a388-9754a66abd39",
      "metadata": {
        "id": "8e8194de-ec2f-427f-a388-9754a66abd39"
      },
      "source": [
        "![Threading (Actual) Figure 2.png](attachment:a09526b6-54c8-49a7-ae27-f5bb120a711b.png)"
      ]
    },
    {
      "cell_type": "code",
      "execution_count": null,
      "id": "4db7ae53-4ad4-4ff9-881d-1b1107f36c87",
      "metadata": {
        "id": "4db7ae53-4ad4-4ff9-881d-1b1107f36c87"
      },
      "outputs": [],
      "source": [
        "#func() is started and as soon as it started waiting, it moved ahead and started the next part of the code"
      ]
    },
    {
      "cell_type": "code",
      "execution_count": null,
      "id": "cbcc62d8-8377-4f07-9ddb-da0a71315cf5",
      "metadata": {
        "id": "cbcc62d8-8377-4f07-9ddb-da0a71315cf5",
        "outputId": "2da16214-8429-41c2-dff5-677da2ff77dc"
      },
      "outputs": [
        {
          "name": "stdout",
          "output_type": "stream",
          "text": [
            "Finished in 0.0 seconds\n"
          ]
        }
      ],
      "source": [
        "import threading     #no need to install, its already a part of python package, this is the traditional way of doing threading, more effective ways are done with pools\n",
        "import time\n",
        "\n",
        "start = time.perf_counter()\n",
        "\n",
        "def do_something():\n",
        "    print('Sleeping 1 second...')\n",
        "    time.sleep(1)\n",
        "    print('Done Sleeping')\n",
        "\n",
        "#instead the running the two functions like this, threads are used both of these\n",
        "#do_something()\n",
        "#do_something()\n",
        "\n",
        "t1 = threading.Thread(target = do_something) #do not pass the function with (), as we dont intend to run the function, just pass it\n",
        "t2 = threading.Thread(target = do_something)\n",
        "\n",
        "finish = time.perf_counter() #using to find the time the entrirer sequecnce takes from here\n",
        "\n",
        "\n",
        "print(f'Finished in {round(finish-start,2)} seconds')"
      ]
    },
    {
      "cell_type": "code",
      "execution_count": null,
      "id": "811a5db6-461c-4173-85f6-d7f98666f51d",
      "metadata": {
        "id": "811a5db6-461c-4173-85f6-d7f98666f51d"
      },
      "outputs": [],
      "source": [
        "# when you run the above code you can see that it did not run anything\n",
        "# To get the threads to run, we need to use start methods on these threads"
      ]
    },
    {
      "cell_type": "code",
      "execution_count": null,
      "id": "6046ccbf-2d87-4fad-84b2-6bd86f605fc3",
      "metadata": {
        "id": "6046ccbf-2d87-4fad-84b2-6bd86f605fc3",
        "outputId": "7f76856a-301c-4b24-db95-39712803e38d"
      },
      "outputs": [
        {
          "name": "stdout",
          "output_type": "stream",
          "text": [
            "Sleeping 1 second...\n",
            "Sleeping 1 second...\n",
            "Finished in 0.01 seconds\n",
            "Done Sleeping\n",
            "Done Sleeping\n"
          ]
        }
      ],
      "source": [
        "import threading     #no need to install, its already a part of python package, this is the traditional way of doing threading, more effective ways are done with pools\n",
        "import time\n",
        "\n",
        "start = time.perf_counter() #using to find the time the entrirer sequecnce takes from here\n",
        "\n",
        "def do_something():\n",
        "    print('Sleeping 1 second...')\n",
        "    time.sleep(1)\n",
        "    print('Done Sleeping')\n",
        "\n",
        "#instead the running the two functions like this, threads are used both of these\n",
        "#do_something()\n",
        "#do_something()\n",
        "\n",
        "t1 = threading.Thread(target = do_something) #do not pass the function with (), as we dont intend to run the function, just pass it\n",
        "t2 = threading.Thread(target = do_something)\n",
        "\n",
        "t1.start()\n",
        "t2.start()\n",
        "\n",
        "finish = time.perf_counter() #using to find the time the entrirer sequecnce takes from here\n",
        "\n",
        "\n",
        "print(f'Finished in {round(finish-start,2)} seconds')"
      ]
    },
    {
      "cell_type": "code",
      "execution_count": null,
      "id": "01b8dc1b-ab88-40f4-bc11-1217d11c4974",
      "metadata": {
        "id": "01b8dc1b-ab88-40f4-bc11-1217d11c4974"
      },
      "outputs": [],
      "source": [
        "# Threads started but did not work we wanted it to\n",
        "# It printed the first lines of both methods\n",
        "# Finished in 0 seconds when each sleep is for 1 second\n",
        "# Then executed the Print 'Done Sleeping' in both methods\n",
        "\n",
        "# EXPLANATION\n",
        "# It started both threads, while the threads were sleeping it moved on to calculate the next part of the script, calculates the finish time, printed it,\n",
        "# by now 1 second had passed, the threads continued to both prints ' Done Sleeping'"
      ]
    },
    {
      "cell_type": "code",
      "execution_count": null,
      "id": "d46ca6ec-9f9a-401b-9f0c-d9bfec89ba45",
      "metadata": {
        "id": "d46ca6ec-9f9a-401b-9f0c-d9bfec89ba45"
      },
      "outputs": [],
      "source": [
        "# We want the finish to be caluclated after the completion of both threads\n",
        "# JOIN() is used\n",
        "# It makes sure the threads complete before moving on to the next part of the code"
      ]
    },
    {
      "cell_type": "code",
      "execution_count": null,
      "id": "fcd50c0a-6305-4166-aff4-92c65dce1645",
      "metadata": {
        "id": "fcd50c0a-6305-4166-aff4-92c65dce1645",
        "outputId": "aee39ef5-a059-4d11-c7e6-b4add9f2faf8"
      },
      "outputs": [
        {
          "name": "stdout",
          "output_type": "stream",
          "text": [
            "Sleeping 1 second...\n",
            "Sleeping 1 second...\n",
            "Done Sleeping\n",
            "Done Sleeping\n",
            "Finished in 1.02 seconds\n"
          ]
        }
      ],
      "source": [
        "import threading\n",
        "import time\n",
        "\n",
        "start = time.perf_counter()\n",
        "def do_something():\n",
        "    print('Sleeping 1 second...')\n",
        "    time.sleep(1)\n",
        "    print('Done Sleeping')\n",
        "\n",
        "#instead the running the two functions like this, threads are used both of these\n",
        "#do_something()\n",
        "#do_something()\n",
        "\n",
        "t1 = threading.Thread(target = do_something) #do not pass the function with (), as we dont intend to run the function, just pass it\n",
        "t2 = threading.Thread(target = do_something)\n",
        "\n",
        "t1.start()\n",
        "t2.start()\n",
        "\n",
        "t1.join()\n",
        "t2.join()\n",
        "\n",
        "finish = time.perf_counter() #using to find the time the entrirer sequecnce takes from here\n",
        "\n",
        "\n",
        "print(f'Finished in {round(finish-start,2)} seconds')"
      ]
    },
    {
      "cell_type": "code",
      "execution_count": null,
      "id": "9f3fba76-1566-46d4-9bdb-2824585581b8",
      "metadata": {
        "id": "9f3fba76-1566-46d4-9bdb-2824585581b8"
      },
      "outputs": [],
      "source": [
        "# The threads started almost at the same time and were done in a second and printed\n",
        "\n",
        "# Observation\n",
        "# when it took 2 seconds before, with threading, it took 1 second, might seem insignificant, but when big time slots are required, threading is useful\n",
        "\n",
        "#Extension\n",
        "# There are alternatives to manualyy writing the start() and join()"
      ]
    },
    {
      "cell_type": "code",
      "execution_count": null,
      "id": "556a3b35-2643-4a93-a52d-259b510074b7",
      "metadata": {
        "id": "556a3b35-2643-4a93-a52d-259b510074b7"
      },
      "outputs": [],
      "source": [
        "import threading     #no need to install, its already a part of python package, this is the traditional way of doing threading, more effective ways are done with pools\n",
        "import time\n",
        "\n",
        "start = time.perf_counter() #using to find the time the entrirer sequecnce takes from here\n",
        "\n",
        "def do_something():\n",
        "    print('Sleeping 1 second...')\n",
        "    time.sleep(1)\n",
        "    print('Done Sleeping')\n",
        "\n",
        "for _ in range(10):      # underscore variable is a throwaway variable to simply loop for 10 times and we are not doing anything else with it in the loop\n",
        "    t = threading.Thread(target = do_something)\n",
        "    t.start()            # We cant use join() within the loop as it will join on the thread before looping through, creating and starting the next thread, it becomes like synchronous execution as shown in the first diagram\n",
        "                         # To do this we can create a list of threads and perform join()\n",
        "\n",
        "\n",
        "finish = time.perf_counter() #using to find the time the entrirer sequecnce takes from here\n",
        "\n",
        "\n",
        "print(f'Finished in {round(finish-start,2)} seconds')"
      ]
    },
    {
      "cell_type": "code",
      "execution_count": null,
      "id": "38f3fc88-3224-4ad9-b87a-651f983b1c3d",
      "metadata": {
        "id": "38f3fc88-3224-4ad9-b87a-651f983b1c3d",
        "outputId": "64cefcfc-a762-4bf0-9cc6-85e2e2adcaba"
      },
      "outputs": [
        {
          "name": "stdout",
          "output_type": "stream",
          "text": [
            "Sleeping 1 second...\n",
            "Sleeping 1 second...\n",
            "Sleeping 1 second...\n",
            "Sleeping 1 second...\n",
            "Sleeping 1 second...\n",
            "Sleeping 1 second...\n",
            "Sleeping 1 second...\n",
            "Sleeping 1 second...\n",
            "Sleeping 1 second...\n",
            "Sleeping 1 second...\n",
            "Done Sleeping\n",
            "Done Sleeping\n",
            "Done Sleeping\n",
            "Done Sleeping\n",
            "Done Sleeping\n",
            "Done Sleeping\n",
            "Done Sleeping\n",
            "Done Sleeping\n",
            "Done Sleeping\n",
            "Done Sleeping\n",
            "Finished in 1.01 seconds\n"
          ]
        }
      ],
      "source": [
        "# Threading effect with 10 calls\n",
        "import threading\n",
        "import time\n",
        "\n",
        "start = time.perf_counter()\n",
        "\n",
        "def do_something():\n",
        "    print('Sleeping 1 second...')\n",
        "    time.sleep(1)\n",
        "    print('Done Sleeping')\n",
        "\n",
        "threads = []\n",
        "\n",
        "for _ in range(10):\n",
        "    t = threading.Thread(target = do_something)\n",
        "    t.start()\n",
        "    threads.append(t)\n",
        "\n",
        "for thread in threads:\n",
        "    thread.join()\n",
        "\n",
        "\n",
        "finish = time.perf_counter()\n",
        "\n",
        "\n",
        "print(f'Finished in {round(finish-start,2)} seconds')"
      ]
    },
    {
      "cell_type": "code",
      "execution_count": null,
      "id": "e61501b3-6c0d-4053-943c-b3d566956db9",
      "metadata": {
        "id": "e61501b3-6c0d-4053-943c-b3d566956db9",
        "outputId": "ad8c3439-ed8b-490f-aae2-da3d00228190"
      },
      "outputs": [
        {
          "name": "stdout",
          "output_type": "stream",
          "text": [
            "Sleeping 1.5 second(s)...\n",
            "Sleeping 1.5 second(s)...\n",
            "Sleeping 1.5 second(s)...\n",
            "Sleeping 1.5 second(s)...\n",
            "Sleeping 1.5 second(s)...\n",
            "Sleeping 1.5 second(s)...\n",
            "Sleeping 1.5 second(s)...\n",
            "Sleeping 1.5 second(s)...\n",
            "Sleeping 1.5 second(s)...\n",
            "Sleeping 1.5 second(s)...\n",
            "Done SleepingDone Sleeping\n",
            "Done Sleeping\n",
            "Done Sleeping\n",
            "Done Sleeping\n",
            "Done Sleeping\n",
            "Done Sleeping\n",
            "Done Sleeping\n",
            "Done Sleeping\n",
            "\n",
            "Done Sleeping\n",
            "Finished in 1.51 seconds\n"
          ]
        }
      ],
      "source": [
        "# Threading fucntions with arguments\n",
        "\n",
        "# Threading effect with 10 calls\n",
        "import threading\n",
        "import time\n",
        "\n",
        "start = time.perf_counter()\n",
        "\n",
        "def do_something(seconds):                    #argument passed here\n",
        "    print(f'Sleeping {seconds} second(s)...') #fstring\n",
        "    time.sleep(seconds)\n",
        "    print('Done Sleeping')\n",
        "\n",
        "threads = []\n",
        "\n",
        "for _ in range(10):\n",
        "    t = threading.Thread(target = do_something, args = [1.5]) #same argument for all threads in the list\n",
        "    t.start()\n",
        "    threads.append(t)\n",
        "\n",
        "for thread in threads:\n",
        "    thread.join()\n",
        "\n",
        "\n",
        "finish = time.perf_counter()\n",
        "\n",
        "\n",
        "print(f'Finished in {round(finish-start,2)} seconds')\n"
      ]
    },
    {
      "cell_type": "code",
      "execution_count": null,
      "id": "bc969f27-5498-491b-a871-b67f2146bb07",
      "metadata": {
        "id": "bc969f27-5498-491b-a871-b67f2146bb07"
      },
      "outputs": [],
      "source": [
        "# SO FAR WAS THE MANUAL WAY OFCREATING THREADS, we need this to understand the working of the threads\n",
        "\n",
        "# Python 3.2 introduced Threadpool Executor\n",
        "# This is not in the Threading module but in the concurrent  futures module\n",
        "# ThreadPoolExecutor is also useful to switch between different processes"
      ]
    },
    {
      "cell_type": "code",
      "execution_count": null,
      "id": "a8dbb93f-e582-4caf-ac49-56e5613b38ab",
      "metadata": {
        "id": "a8dbb93f-e582-4caf-ac49-56e5613b38ab",
        "outputId": "59ffe456-a5bb-4c83-8263-52bbfb57cb44"
      },
      "outputs": [
        {
          "name": "stdout",
          "output_type": "stream",
          "text": [
            "Sleeping 1 second(s)...\n",
            "Done Sleeping...\n",
            "Finished in 1.01 seconds\n"
          ]
        }
      ],
      "source": [
        "import concurrent.futures\n",
        "# import threading    - Not required\n",
        "import time\n",
        "\n",
        "start = time.perf_counter()\n",
        "\n",
        "def do_something(seconds):\n",
        "    print(f'Sleeping {seconds} second(s)...')\n",
        "    time.sleep(seconds)\n",
        "    #print('Done Sleeping')\n",
        "    return 'Done Sleeping...'\n",
        "\n",
        "with concurrent.futures.ThreadPoolExecutor() as executor:\n",
        "    f1 = executor.submit(do_something, 1)  #submit function will schedule the execution of function and returns a furture object\n",
        "    print(f1.result())\n",
        "\n",
        "\n",
        "finish = time.perf_counter()\n",
        "\n",
        "\n",
        "print(f'Finished in {round(finish-start,2)} seconds')\n"
      ]
    },
    {
      "cell_type": "code",
      "execution_count": null,
      "id": "153e7d9f-1079-4138-b9f1-1600437b3057",
      "metadata": {
        "id": "153e7d9f-1079-4138-b9f1-1600437b3057"
      },
      "outputs": [],
      "source": [
        "# Running the above code multiple times\n",
        "# submit will have to be run multiple times"
      ]
    },
    {
      "cell_type": "code",
      "execution_count": null,
      "id": "c1ce19db-4ecc-49ef-9224-fe1ee5e3bd9a",
      "metadata": {
        "id": "c1ce19db-4ecc-49ef-9224-fe1ee5e3bd9a",
        "outputId": "159d99f4-affa-4ac6-ca17-0f87693e38fe"
      },
      "outputs": [
        {
          "name": "stdout",
          "output_type": "stream",
          "text": [
            "Sleeping 1 second(s)...\n",
            "Sleeping 1 second(s)...\n",
            "Done Sleeping...\n",
            "Done Sleeping...\n",
            "Finished in 1.01 seconds\n"
          ]
        }
      ],
      "source": [
        "import concurrent.futures\n",
        "# import threading    - Not required\n",
        "import time\n",
        "\n",
        "start = time.perf_counter()\n",
        "\n",
        "def do_something(seconds):\n",
        "    print(f'Sleeping {seconds} second(s)...')\n",
        "    time.sleep(seconds)\n",
        "    #print('Done Sleeping')\n",
        "    return 'Done Sleeping...'\n",
        "\n",
        "with concurrent.futures.ThreadPoolExecutor() as executor:\n",
        "    f1 = executor.submit(do_something, 1)  #submit function will schedule the execution of function and returns a furture object\n",
        "    f2 = executor.submit(do_something, 1)\n",
        "    print(f1.result())\n",
        "    print(f2.result())\n",
        "\n",
        "\n",
        "finish = time.perf_counter()\n",
        "\n",
        "\n",
        "print(f'Finished in {round(finish-start,2)} seconds')\n"
      ]
    },
    {
      "cell_type": "code",
      "execution_count": null,
      "id": "e54c7d43-7f33-4a1c-b3f0-522498a0b269",
      "metadata": {
        "id": "e54c7d43-7f33-4a1c-b3f0-522498a0b269",
        "outputId": "8e0cb1ba-f395-4e72-dd89-fa13994f4c03"
      },
      "outputs": [
        {
          "name": "stdout",
          "output_type": "stream",
          "text": [
            "Sleeping 1 second(s)...\n",
            "Sleeping 1 second(s)...\n",
            "Sleeping 1 second(s)...\n",
            "Sleeping 1 second(s)...\n",
            "Sleeping 1 second(s)...\n",
            "Sleeping 1 second(s)...\n",
            "Sleeping 1 second(s)...\n",
            "Sleeping 1 second(s)...\n",
            "Sleeping 1 second(s)...Done Sleeping...\n",
            "\n",
            "Sleeping 1 second(s)...\n",
            "Done Sleeping...\n",
            "Done Sleeping...\n",
            "Done Sleeping...\n",
            "Done Sleeping...\n",
            "Done Sleeping...\n",
            "Done Sleeping...\n",
            "Done Sleeping...\n",
            "Done Sleeping...\n",
            "Done Sleeping...\n",
            "Finished in 2.01 seconds\n"
          ]
        }
      ],
      "source": [
        "import concurrent.futures\n",
        "import time\n",
        "\n",
        "start = time.perf_counter()\n",
        "\n",
        "def do_something(seconds):\n",
        "    print(f'Sleeping {seconds} second(s)...')\n",
        "    time.sleep(seconds)\n",
        "    return 'Done Sleeping...'\n",
        "\n",
        "with concurrent.futures.ThreadPoolExecutor() as executor:\n",
        "    results = [executor.submit(do_something, 1) for _ in range(10)] #list comprehension, alternative to loop\n",
        "\n",
        "    for f in concurrent.futures.as_completed(results):\n",
        "        print(f.result())\n",
        "\n",
        "\n",
        "\n",
        "finish = time.perf_counter()\n",
        "\n",
        "\n",
        "print(f'Finished in {round(finish-start,2)} seconds')\n"
      ]
    },
    {
      "cell_type": "code",
      "execution_count": null,
      "id": "d3afb000-fb48-4479-9b56-17de0c3057bd",
      "metadata": {
        "id": "d3afb000-fb48-4479-9b56-17de0c3057bd"
      },
      "outputs": [],
      "source": [
        "# import concurrent.futures\n",
        "# import time\n",
        "\n",
        "# start = time.perf_counter()\n",
        "\n",
        "# def do_something(seconds):\n",
        "#     print(f'Sleeping {seconds} second(s)...')\n",
        "#     time.sleep(seconds)\n",
        "#     return f'Done Sleeping...{seconds}'\n",
        "\n",
        "# with concurrent.futures.ThreadPoolExecutor() as executor:\n",
        "#     s = [5,4,3,2,1] #different sleeping time for threads\n",
        "#     results = [executor.submit(do_something, s) for sec in s] #list comprehension, alternative to loop\n",
        "\n",
        "#     for f in concurrent.futures.as_completed(results):\n",
        "#         print(f.result())\n",
        "\n",
        "\n",
        "\n",
        "# finish = time.perf_counter()\n",
        "\n",
        "\n",
        "# print(f'Finished in {round(finish-start,2)} seconds')\n"
      ]
    },
    {
      "cell_type": "code",
      "execution_count": null,
      "id": "ea655d11-0298-4e47-8a66-f9e4559a5cbb",
      "metadata": {
        "id": "ea655d11-0298-4e47-8a66-f9e4559a5cbb"
      },
      "outputs": [],
      "source": []
    }
  ],
  "metadata": {
    "kernelspec": {
      "display_name": "Python [conda env:base] *",
      "language": "python",
      "name": "conda-base-py"
    },
    "language_info": {
      "codemirror_mode": {
        "name": "ipython",
        "version": 3
      },
      "file_extension": ".py",
      "mimetype": "text/x-python",
      "name": "python",
      "nbconvert_exporter": "python",
      "pygments_lexer": "ipython3",
      "version": "3.13.5"
    },
    "colab": {
      "provenance": [],
      "include_colab_link": true
    }
  },
  "nbformat": 4,
  "nbformat_minor": 5
}