{
 "cells": [
  {
   "cell_type": "code",
   "execution_count": 16,
   "id": "6a1b2c2f-b9b4-447e-9452-6d7b2a0c385b",
   "metadata": {},
   "outputs": [],
   "source": [
    "# Defining a class 'Emp' to represent employees\n",
    "class Emp:\n",
    "     # Class variables (shared across all instances of the class)\n",
    "    no_of_employees = 0  # Keeps track of total employees created\n",
    "    raise_amount = 1.04   # Default raise multiplier for salary increment\n",
    "\n",
    "    # Constructor method (called when a new object is created)\n",
    "    def __init__(self,first,last,pay):\n",
    "        self.first = first  #instance variables\n",
    "        self.last = last\n",
    "        self.pay = pay\n",
    " # Every time a new employee is created, increment class counter\n",
    "        Emp.no_of_employees += 1\n",
    "        # Method to apply raise to salary\n",
    "    def apply_raise(self):\n",
    "        self.pay =int(self.pay * Emp.raise_amount) # Uses the class variable raise_amount"
   ]
  },
  {
   "cell_type": "code",
   "execution_count": 8,
   "id": "1d74b524-768e-43ae-8acc-c88f4ea03b6a",
   "metadata": {},
   "outputs": [
    {
     "name": "stdout",
     "output_type": "stream",
     "text": [
      "2\n"
     ]
    }
   ],
   "source": [
    "#Class Varibles\n",
    "e1 = Emp(\"Donald\", \"Trump\", 50000)\n",
    "e2 = Emp(\"Sathish\", \"Vibhu\", 60000)\n",
    "# Prints the total number of employees created so far (class variable)\n",
    "print(Emp.no_of_employees)"
   ]
  },
  {
   "cell_type": "code",
   "execution_count": 9,
   "id": "89de2fa0-e50c-43c4-9b92-0926a1258f65",
   "metadata": {},
   "outputs": [
    {
     "name": "stdout",
     "output_type": "stream",
     "text": [
      "4\n"
     ]
    }
   ],
   "source": [
    "e3=Emp(\"Donald\",\"Trump\",50000)\n",
    "e4=Emp(\"Sathish\",\"Vibhu\",60000)\n",
    "print(Emp.no_of_employees)"
   ]
  },
  {
   "cell_type": "code",
   "execution_count": 20,
   "id": "fb056d0e-ea52-4c03-8888-e3d571337dd6",
   "metadata": {},
   "outputs": [
    {
     "name": "stdout",
     "output_type": "stream",
     "text": [
      "52500\n"
     ]
    }
   ],
   "source": [
    "\n",
    "e1 = Emp(\"John\", 50000)\n",
    "# Applying raise to e1's salary\n",
    "e1.apply_raise()\n",
    "print(e1.pay)  # Should print raised pay\n"
   ]
  },
  {
   "cell_type": "code",
   "execution_count": 11,
   "id": "9c2bc445-0600-42fd-9ac8-d8661eed7028",
   "metadata": {},
   "outputs": [
    {
     "name": "stdout",
     "output_type": "stream",
     "text": [
      "1.05\n"
     ]
    }
   ],
   "source": [
    "# Changing the raise_amount for only e1 (creates an instance variable shadowing class variable)\n",
    "e1.raise_amount = 1.05\n",
    "print(e1.raise_amount)"
   ]
  },
  {
   "cell_type": "code",
   "execution_count": 12,
   "id": "ea7d9b2b-bda1-41d9-a90c-3bdeef5d64de",
   "metadata": {},
   "outputs": [
    {
     "name": "stdout",
     "output_type": "stream",
     "text": [
      "{'first': 'Donald', 'last': 'Trump', 'pay': 50000, 'raise_amount': 1.05}\n"
     ]
    }
   ],
   "source": [
    "# Printing e1's __dict__ (shows instance variables only)\n",
    "print(e1.__dict__)"
   ]
  },
  {
   "cell_type": "code",
   "execution_count": 13,
   "id": "f396a26a-4b53-4f83-baa0-50a6536ab617",
   "metadata": {},
   "outputs": [
    {
     "name": "stdout",
     "output_type": "stream",
     "text": [
      "{'__module__': '__main__', 'no_of_employees': 4, 'raise_amount': 1.04, '__init__': <function Emp.__init__ at 0x710597413490>, 'apply_raise': <function Emp.apply_raise at 0x710597413520>, '__dict__': <attribute '__dict__' of 'Emp' objects>, '__weakref__': <attribute '__weakref__' of 'Emp' objects>, '__doc__': None}\n"
     ]
    }
   ],
   "source": [
    "print(Emp.__dict__) #name space #Printing Emp's __dict__ (shows class variables & methods)"
   ]
  },
  {
   "cell_type": "code",
   "execution_count": 22,
   "id": "01f12964-8f42-43f5-9f18-fc8c871c698f",
   "metadata": {},
   "outputs": [
    {
     "name": "stdout",
     "output_type": "stream",
     "text": [
      "Hello from Parent\n"
     ]
    }
   ],
   "source": [
    "#Inheritance\n",
    "class Parent:\n",
    "    def greet(self):\n",
    "        print(\"Hello from Parent\")\n",
    "\n",
    "class Child(Parent): #Child inherits Parent\n",
    "    pass  # No additional attributes or methods\n",
    "\n",
    "obj =Child()\n",
    "obj.greet()# Inherited method from Parent"
   ]
  },
  {
   "cell_type": "code",
   "execution_count": 23,
   "id": "ca7d5252-0760-456c-86dd-711badd20f60",
   "metadata": {},
   "outputs": [
    {
     "name": "stdout",
     "output_type": "stream",
     "text": [
      "Hello from Parent\n",
      "Hello from Child\n"
     ]
    }
   ],
   "source": [
    "#Using super() to call a method from Parent Class\n",
    "class Parent:\n",
    "    def greet(self):\n",
    "        print(\"Hello from Parent\")\n",
    "class Child(Parent): #Child Inherits Parent\n",
    "    def greet(self):\n",
    "        super().greet() #Calls Parent's greet\n",
    "        print(\"Hello from Child\")   # Additional functionality\n",
    "\n",
    "obj = Child()\n",
    "obj.greet()"
   ]
  },
  {
   "cell_type": "code",
   "execution_count": 26,
   "id": "98502d39-f63a-4e14-b704-e731c54c03c6",
   "metadata": {},
   "outputs": [
    {
     "name": "stdout",
     "output_type": "stream",
     "text": [
      "Method A\n",
      "Method B\n"
     ]
    }
   ],
   "source": [
    "#Multiple Inheritance\n",
    "class A:\n",
    "    def method_a(self):\n",
    "        print(\"Method A\")\n",
    "class B:\n",
    "    def method_b(self):\n",
    "        print(\"Method B\")\n",
    "class C(A,B): #Inherits from both A and B\n",
    "    pass\n",
    "# Creating object of C\n",
    "obj = C()\n",
    "obj.method_a()\n",
    "obj.method_b()"
   ]
  },
  {
   "cell_type": "code",
   "execution_count": 27,
   "id": "8254bc33-c13d-4101-b929-400e6aed6c0f",
   "metadata": {},
   "outputs": [],
   "source": [
    "# Base class for storing contact details\n",
    "class Contact:\n",
    "    all_contacts = [] # Class variable to store all contact objects\n",
    "\n",
    "    def __init__(self,name,email):\n",
    "        self.name=name\n",
    "        self.email=email\n",
    "        Contact.all_contacts.append(self) # Add this contact to shared list"
   ]
  },
  {
   "cell_type": "code",
   "execution_count": 29,
   "id": "2bfc237f-fa7c-4024-a7c3-4c0fc1ce373f",
   "metadata": {},
   "outputs": [],
   "source": [
    "# Supplier class inherits from Contact\n",
    "class Supplier(Contact):\n",
    "    def order(self,order):\n",
    "        print(\"send\", \"{} order to {}\".format(order,self.name))"
   ]
  },
  {
   "cell_type": "code",
   "execution_count": 30,
   "id": "2fcf5046-5a94-4d56-83a4-bd5621295db4",
   "metadata": {},
   "outputs": [
    {
     "name": "stdout",
     "output_type": "stream",
     "text": [
      "Some Body somebody@example.net Sup Plier supplier@example.net\n"
     ]
    }
   ],
   "source": [
    "# Creating objects\n",
    "c=Contact(\"Some Body\", \"somebody@example.net\")\n",
    "s=Supplier(\"Sup Plier\", \"supplier@example.net\")\n",
    "# Printing contact details\n",
    "print(c.name, c.email, s.name, s.email)"
   ]
  },
  {
   "cell_type": "code",
   "execution_count": 31,
   "id": "9c85b576-75d2-4fb2-b525-03fa708738ff",
   "metadata": {},
   "outputs": [
    {
     "data": {
      "text/plain": [
       "[<__main__.Contact at 0x71059747bb80>, <__main__.Supplier at 0x710597479f00>]"
      ]
     },
     "execution_count": 31,
     "metadata": {},
     "output_type": "execute_result"
    }
   ],
   "source": [
    "c.all_contacts"
   ]
  },
  {
   "cell_type": "code",
   "execution_count": 32,
   "id": "4a19d2f9-280a-4adc-804e-fea517d34c21",
   "metadata": {},
   "outputs": [
    {
     "ename": "AttributeError",
     "evalue": "'Contact' object has no attribute 'order'",
     "output_type": "error",
     "traceback": [
      "\u001b[0;31m---------------------------------------------------------------------------\u001b[0m",
      "\u001b[0;31mAttributeError\u001b[0m                            Traceback (most recent call last)",
      "Cell \u001b[0;32mIn[32], line 1\u001b[0m\n\u001b[0;32m----> 1\u001b[0m \u001b[43mc\u001b[49m\u001b[38;5;241;43m.\u001b[39;49m\u001b[43morder\u001b[49m(\u001b[38;5;124m\"\u001b[39m\u001b[38;5;124mIneed pliers\u001b[39m\u001b[38;5;124m\"\u001b[39m)\n",
      "\u001b[0;31mAttributeError\u001b[0m: 'Contact' object has no attribute 'order'"
     ]
    }
   ],
   "source": [
    "c.order(\"Ineed pliers\") #2 way communication does not happen \n",
    "# AttributeError: 'Contact' object has no attribute 'order'\n",
    "# This happens because 'Contact' class has no 'order' method.\n",
    "# Only 'Supplier' has it, so calling on a Contact object fails."
   ]
  },
  {
   "cell_type": "code",
   "execution_count": 33,
   "id": "fa95ca23-0a5a-4e19-ad08-76a0bc230215",
   "metadata": {},
   "outputs": [
    {
     "name": "stdout",
     "output_type": "stream",
     "text": [
      "send Ineed pliers order to Sup Plier\n"
     ]
    }
   ],
   "source": [
    "s.order(\"Ineed pliers\") # Calling order method on Supplier object"
   ]
  },
  {
   "cell_type": "code",
   "execution_count": 48,
   "id": "80db56ed-72e5-4fff-9cd7-7c9aec412dcb",
   "metadata": {},
   "outputs": [],
   "source": [
    "# Class for creating a list of contacts that can be searched\n",
    "class ContactList(list):\n",
    "    def search(self,name):\n",
    "        \"\"\"Return all contacts that contain the search value in their name.\"\"\"\n",
    "        matching_contacts = []\n",
    "        for contact in self:\n",
    "            if name in contact.name: # Check if name matches part of contact's name\n",
    "                matching_contacts.append(contact)\n",
    "            return matching_contacts"
   ]
  },
  {
   "cell_type": "code",
   "execution_count": 49,
   "id": "826c87be-7f32-4d21-a691-d2ac4ca8b71c",
   "metadata": {},
   "outputs": [],
   "source": [
    "\n",
    "# Contact class now uses ContactList for storing all contacts\n",
    "class Contact:\n",
    "    all_contacts =ContactList() #Shared List of all contacts\n",
    "    def __init__(self,name,email):\n",
    "        self.name=name\n",
    "        self.email=email\n",
    "        self.all_contacts.append(self) #Add self to the shared contact List"
   ]
  },
  {
   "cell_type": "code",
   "execution_count": 51,
   "id": "8b34cd8e-46e2-482b-9b9e-1035badc29c0",
   "metadata": {},
   "outputs": [
    {
     "data": {
      "text/plain": [
       "['Jhon A']"
      ]
     },
     "execution_count": 51,
     "metadata": {},
     "output_type": "execute_result"
    }
   ],
   "source": [
    "# Creating multiple contacts\n",
    "c1 =Contact(\"Jhon A\", \"jhon@example.net\")\n",
    "c2 =Contact(\"Jhon B\", \"jhon@example.net\")\n",
    "c3 =Contact(\"Jenna C\",\"jenna@example.net\")\n",
    "\n",
    "[c.name for c in Contact.all_contacts.search('Jhon')]"
   ]
  }
 ],
 "metadata": {
  "kernelspec": {
   "display_name": "anaconda-2024.02-py310",
   "language": "python",
   "name": "conda-env-anaconda-2024.02-py310-py"
  },
  "language_info": {
   "codemirror_mode": {
    "name": "ipython",
    "version": 3
   },
   "file_extension": ".py",
   "mimetype": "text/x-python",
   "name": "python",
   "nbconvert_exporter": "python",
   "pygments_lexer": "ipython3",
   "version": "3.10.14"
  }
 },
 "nbformat": 4,
 "nbformat_minor": 5
}
