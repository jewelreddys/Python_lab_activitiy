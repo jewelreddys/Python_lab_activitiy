{
 "cells": [
  {
   "cell_type": "code",
   "execution_count": 2,
   "id": "17ca921a-e736-482c-9f86-32923dfc508a",
   "metadata": {},
   "outputs": [
    {
     "name": "stdout",
     "output_type": "stream",
     "text": [
      "<class '__main__.Emp'>\n"
     ]
    }
   ],
   "source": [
    "class Emp:\n",
    "    pass\n",
    "print(Emp)"
   ]
  },
  {
   "cell_type": "code",
   "execution_count": 4,
   "id": "ad87c53d-5cf5-4dc0-8f94-b7c19c5fdafa",
   "metadata": {},
   "outputs": [
    {
     "name": "stdout",
     "output_type": "stream",
     "text": [
      "<class '__main__.Emp'>\n"
     ]
    }
   ],
   "source": [
    "e1 =(Emp)#instance creation\n",
    "print(e1)"
   ]
  },
  {
   "cell_type": "code",
   "execution_count": 5,
   "id": "86b398cf-c1ac-43cb-97dd-74bfb8d9ee3d",
   "metadata": {},
   "outputs": [
    {
     "name": "stdout",
     "output_type": "stream",
     "text": [
      "<class '__main__.Emp'>\n"
     ]
    }
   ],
   "source": [
    "#attributes\n",
    "e1.first='Donald'\n",
    "e1.last='Trump'\n",
    "e1.pay=50000\n",
    "print(e1)"
   ]
  },
  {
   "cell_type": "code",
   "execution_count": 13,
   "id": "e91fa850-af5c-4ffc-8f7f-b3fbb58c7cb6",
   "metadata": {},
   "outputs": [
    {
     "name": "stdout",
     "output_type": "stream",
     "text": [
      "Donald\n",
      "Trump\n",
      "50000\n"
     ]
    }
   ],
   "source": [
    "print(e1.first)\n",
    "print(e1.last)\n",
    "print(e1.pay)"
   ]
  },
  {
   "cell_type": "code",
   "execution_count": 8,
   "id": "75f7abe7-b4a9-4ed4-adf1-e6f6ad2f688f",
   "metadata": {},
   "outputs": [],
   "source": [
    "class Employee:\n",
    "    def __init__(self,first,last,pay):\n",
    "        self.first =first\n",
    "        self.last=last\n",
    "        self.pay=pay\n",
    "        self.email=first + ' ' + last + ' ' + '@company.com'"
   ]
  },
  {
   "cell_type": "code",
   "execution_count": 10,
   "id": "9cafa975-1d35-411b-8237-79f45441d2f3",
   "metadata": {},
   "outputs": [
    {
     "name": "stdout",
     "output_type": "stream",
     "text": [
      "Donald\n"
     ]
    }
   ],
   "source": [
    "#creating more objects\n",
    "e2= Employee(\"Donald\",\"Trump\",50000)\n",
    "print(e2.first)"
   ]
  },
  {
   "cell_type": "code",
   "execution_count": 11,
   "id": "2b40cb17-f233-49f2-9225-669f5f9bb0ea",
   "metadata": {},
   "outputs": [
    {
     "name": "stdout",
     "output_type": "stream",
     "text": [
      "Donald Trump @company.com\n"
     ]
    }
   ],
   "source": [
    "print(e2.email)"
   ]
  },
  {
   "cell_type": "code",
   "execution_count": 16,
   "id": "40741c7e-41e4-43e3-9733-ef2697fe892c",
   "metadata": {},
   "outputs": [],
   "source": [
    "#method\n",
    "def fullname(self):\n",
    "    return \"{} {}\".format(self.first, self.last)\n"
   ]
  },
  {
   "cell_type": "code",
   "execution_count": 17,
   "id": "bfa38110-d439-45ab-b3a8-fba9ebb3afc0",
   "metadata": {},
   "outputs": [
    {
     "ename": "AttributeError",
     "evalue": "type object 'Emp' has no attribute 'email'",
     "output_type": "error",
     "traceback": [
      "\u001b[0;31m---------------------------------------------------------------------------\u001b[0m",
      "\u001b[0;31mAttributeError\u001b[0m                            Traceback (most recent call last)",
      "Cell \u001b[0;32mIn[17], line 1\u001b[0m\n\u001b[0;32m----> 1\u001b[0m \u001b[38;5;28mprint\u001b[39m(\u001b[43me1\u001b[49m\u001b[38;5;241;43m.\u001b[39;49m\u001b[43memail\u001b[49m)\n",
      "\u001b[0;31mAttributeError\u001b[0m: type object 'Emp' has no attribute 'email'"
     ]
    }
   ],
   "source": [
    "print(e1.email)"
   ]
  },
  {
   "cell_type": "code",
   "execution_count": 19,
   "id": "b2201ecd-d99f-40b8-a54b-172d6d4e2a10",
   "metadata": {},
   "outputs": [
    {
     "name": "stdout",
     "output_type": "stream",
     "text": [
      "Woof! Woof!\n"
     ]
    }
   ],
   "source": [
    "# Define a class\n",
    "class Dog:\n",
    "    def bark(self):\n",
    "        print(\"Woof! Woof!\")\n",
    "\n",
    "# Create an object (instance)\n",
    "my_dog = Dog()\n",
    "my_dog.bark()\n"
   ]
  },
  {
   "cell_type": "code",
   "execution_count": 18,
   "id": "0abb6c03-b4b3-4799-bc4b-6939a00ca5c9",
   "metadata": {},
   "outputs": [
    {
     "name": "stdout",
     "output_type": "stream",
     "text": [
      "Hi, I'm Alice and I'm 25 years old.\n"
     ]
    }
   ],
   "source": [
    "#class with Constructor\n",
    "class Person:\n",
    "    def __init__(self, name, age):\n",
    "        self.name = name  # instance variable\n",
    "        self.age = age\n",
    "\n",
    "    def introduce(self):\n",
    "        print(f\"Hi, I'm {self.name} and I'm {self.age} years old.\")\n",
    "\n",
    "# Create an object with data\n",
    "p1 = Person(\"Alice\", 25)\n",
    "p1.introduce()\n"
   ]
  },
  {
   "cell_type": "code",
   "execution_count": 20,
   "id": "1da24f86-0e17-40da-85dd-ffc6d0426fd5",
   "metadata": {},
   "outputs": [
    {
     "name": "stdout",
     "output_type": "stream",
     "text": [
      "Deposited ₹500. New balance: ₹1500\n",
      "Insufficient funds!\n"
     ]
    }
   ],
   "source": [
    "#Class with Multiple Methods\n",
    "class BankAccount:\n",
    "    def __init__(self, owner, balance=0):\n",
    "        self.owner = owner\n",
    "        self.balance = balance\n",
    "\n",
    "    def deposit(self, amount):\n",
    "        self.balance += amount\n",
    "        print(f\"Deposited ₹{amount}. New balance: ₹{self.balance}\")\n",
    "\n",
    "    def withdraw(self, amount):\n",
    "        if amount <= self.balance:\n",
    "            self.balance -= amount\n",
    "            print(f\"Withdrew ₹{amount}. Remaining balance: ₹{self.balance}\")\n",
    "        else:\n",
    "            print(\"Insufficient funds!\")\n",
    "\n",
    "# Using the class\n",
    "acc = BankAccount(\"Jewel\", 1000)\n",
    "acc.deposit(500)\n",
    "acc.withdraw(2000)\n"
   ]
  },
  {
   "cell_type": "code",
   "execution_count": 21,
   "id": "7f4d7198-918a-44c5-8416-6322ce60e396",
   "metadata": {},
   "outputs": [
    {
     "name": "stdout",
     "output_type": "stream",
     "text": [
      "Name: Rahul, Roll No: 101, Grade: A\n"
     ]
    }
   ],
   "source": [
    "class Student:\n",
    "    def __init__(self, name, roll_no, grade):\n",
    "        self.name = name\n",
    "        self.roll_no = roll_no\n",
    "        self.grade = grade\n",
    "\n",
    "    def display(self):\n",
    "        print(f\"Name: {self.name}, Roll No: {self.roll_no}, Grade: {self.grade}\")\n",
    "\n",
    "s1 = Student(\"Rahul\", 101, \"A\")\n",
    "s1.display()\n",
    "\n"
   ]
  },
  {
   "cell_type": "code",
   "execution_count": null,
   "id": "1674288c-25d6-48b4-b97d-47724f230766",
   "metadata": {},
   "outputs": [],
   "source": []
  }
 ],
 "metadata": {
  "kernelspec": {
   "display_name": "anaconda-2024.02-py310",
   "language": "python",
   "name": "conda-env-anaconda-2024.02-py310-py"
  },
  "language_info": {
   "codemirror_mode": {
    "name": "ipython",
    "version": 3
   },
   "file_extension": ".py",
   "mimetype": "text/x-python",
   "name": "python",
   "nbconvert_exporter": "python",
   "pygments_lexer": "ipython3",
   "version": "3.10.14"
  }
 },
 "nbformat": 4,
 "nbformat_minor": 5
}
