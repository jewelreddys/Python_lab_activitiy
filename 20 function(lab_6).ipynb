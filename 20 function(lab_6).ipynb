{
 "cells": [
  {
   "cell_type": "code",
   "execution_count": 1,
   "id": "525a4110-2f9f-42b7-926f-7f34b9a34b0c",
   "metadata": {},
   "outputs": [
    {
     "name": "stdout",
     "output_type": "stream",
     "text": [
      "I have a dog named Bruno.\n",
      "I have a dog named Bruno.\n"
     ]
    }
   ],
   "source": [
    "#passing aruguments\n",
    "def describe_pet(animal_type, pet_name):\n",
    "    print(f\"I have a {animal_type} named {pet_name}.\")\n",
    "\n",
    "# Positional\n",
    "describe_pet('dog', 'Bruno')\n",
    "\n",
    "# Keyword\n",
    "describe_pet(animal_type='dog', pet_name='Bruno')\n"
   ]
  },
  {
   "cell_type": "code",
   "execution_count": 2,
   "id": "ccf453b5-8862-474f-b00d-f066e0e50474",
   "metadata": {},
   "outputs": [
    {
     "name": "stdout",
     "output_type": "stream",
     "text": [
      "I have a dog named Bruno.\n",
      "I have a cat named Whiskers.\n"
     ]
    }
   ],
   "source": [
    "#Multiple Functiob Calls\n",
    "describe_pet('dog', 'Bruno')\n",
    "describe_pet('cat', 'Whiskers')\n"
   ]
  },
  {
   "cell_type": "code",
   "execution_count": null,
   "id": "8f378e97-aaac-4db9-9e9d-cff5246a3db4",
   "metadata": {},
   "outputs": [],
   "source": [
    "#Order Matters in Positional Arguments\n",
    "describe_pet('Bruno', 'dog')  # Incorrect: it prints pet as 'dog'\n",
    "# Output will be misleading: \"I have a Bruno named dog.\"\n"
   ]
  },
  {
   "cell_type": "code",
   "execution_count": 3,
   "id": "7f31da3a-5f2c-4ef8-8203-6a10f4ebc0b0",
   "metadata": {},
   "outputs": [
    {
     "name": "stdout",
     "output_type": "stream",
     "text": [
      "I have a hamster named Harry.\n"
     ]
    }
   ],
   "source": [
    "#Keyword Arguments\n",
    "describe_pet(pet_name='Harry', animal_type='hamster')  # Order doesn’t matter with keywords\n"
   ]
  },
  {
   "cell_type": "code",
   "execution_count": 4,
   "id": "1ab9450b-7ea5-4125-945d-6c918bbb00e4",
   "metadata": {},
   "outputs": [
    {
     "name": "stdout",
     "output_type": "stream",
     "text": [
      "I have a dog named Bruno.\n"
     ]
    }
   ],
   "source": [
    "#Default values\n",
    "def describe_pet(pet_name, animal_type='dog'):\n",
    "    print(f\"I have a {animal_type} named {pet_name}.\")\n",
    "\n",
    "describe_pet('Bruno')  # Uses default animal_type='dog'\n"
   ]
  },
  {
   "cell_type": "code",
   "execution_count": 6,
   "id": "aa45935e-7d4f-4644-85fc-9e2ab9ca1bec",
   "metadata": {},
   "outputs": [
    {
     "name": "stdout",
     "output_type": "stream",
     "text": [
      "bruno is a dog.\n",
      "bruno is a dog.\n",
      "harry is a hamster.\n",
      "harry is a hamster.\n",
      "harry is a hamster.\n"
     ]
    }
   ],
   "source": [
    "#Many ways to call a function\n",
    "def describe_pet(pet_name, animal_type='dog'):\n",
    "    print(f\"{pet_name} is a {animal_type}.\")\n",
    "\n",
    "# All valid:\n",
    "describe_pet('bruno')                                  # Positional, default animal_type\n",
    "describe_pet(pet_name='bruno')                         # Keyword\n",
    "describe_pet('harry', 'hamster')                       # Positional\n",
    "describe_pet(pet_name='harry', animal_type='hamster')  # Keyword\n",
    "describe_pet(animal_type='hamster', pet_name='harry')  # Order doesn't matter in keyword\n",
    "#Comment: Keyword arguments give flexibility. Positional is simpler but order-sensitive."
   ]
  },
  {
   "cell_type": "code",
   "execution_count": 7,
   "id": "3dce9770-fc48-4d11-94b4-dd06c47d7552",
   "metadata": {},
   "outputs": [
    {
     "name": "stdout",
     "output_type": "stream",
     "text": [
      "John Doe\n"
     ]
    }
   ],
   "source": [
    "#Returning a Simple Value\n",
    "def get_full_name(first, last):\n",
    "    return f\"{first.title()} {last.title()}\"\n",
    "\n",
    "name = get_full_name(\"john\", \"doe\")\n",
    "print(name)\n"
   ]
  },
  {
   "cell_type": "code",
   "execution_count": 8,
   "id": "d4f2f231-edbf-4d50-9c79-428383451eb1",
   "metadata": {},
   "outputs": [
    {
     "name": "stdout",
     "output_type": "stream",
     "text": [
      "John Doe\n",
      "John Paul Doe\n"
     ]
    }
   ],
   "source": [
    "#Making an Argument Optional\n",
    "def get_full_name(first, last, middle=''):\n",
    "    if middle:\n",
    "        return f\"{first} {middle} {last}\"\n",
    "    else:\n",
    "        return f\"{first} {last}\"\n",
    "\n",
    "print(get_full_name(\"John\", \"Doe\"))\n",
    "print(get_full_name(\"John\", \"Doe\", \"Paul\"))\n"
   ]
  },
  {
   "cell_type": "code",
   "execution_count": 9,
   "id": "93d76327-899f-4587-a16b-fda4241d6af8",
   "metadata": {},
   "outputs": [
    {
     "name": "stdout",
     "output_type": "stream",
     "text": [
      "{'first': 'John', 'last': 'Doe', 'age': 25}\n"
     ]
    }
   ],
   "source": [
    "#Returning a Dictionary\n",
    "def build_person(first, last, age=None):\n",
    "    person = {'first': first, 'last': last}\n",
    "    if age:\n",
    "        person['age'] = age\n",
    "    return person\n",
    "\n",
    "print(build_person('John', 'Doe', age=25))\n"
   ]
  },
  {
   "cell_type": "code",
   "execution_count": 10,
   "id": "1379ea5a-be81-4797-ad9f-e27683aab892",
   "metadata": {},
   "outputs": [
    {
     "name": "stdout",
     "output_type": "stream",
     "text": [
      "Hello, alice!\n",
      "Hello, bob!\n",
      "Hello, carol!\n"
     ]
    }
   ],
   "source": [
    "#Passing a dictionary\n",
    "def greet_users(names):\n",
    "    for name in names:\n",
    "        print(f\"Hello, {name}!\")\n",
    "\n",
    "users = ['alice', 'bob', 'carol']\n",
    "greet_users(users)\n",
    "\n"
   ]
  },
  {
   "cell_type": "code",
   "execution_count": 11,
   "id": "7e749063-5588-43d5-837a-4b813e6d4c04",
   "metadata": {},
   "outputs": [
    {
     "name": "stdout",
     "output_type": "stream",
     "text": [
      "Processing task2\n",
      "Processing task1\n",
      "['task2', 'task1']\n"
     ]
    }
   ],
   "source": [
    "#Modifying a List Inside the Function\n",
    "def process_tasks(tasks, completed):\n",
    "    while tasks:\n",
    "        task = tasks.pop()\n",
    "        print(f\"Processing {task}\")\n",
    "        completed.append(task)\n",
    "\n",
    "tasks = ['task1', 'task2']\n",
    "done = []\n",
    "process_tasks(tasks, done)\n",
    "print(done)  # Modified list\n"
   ]
  },
  {
   "cell_type": "code",
   "execution_count": 12,
   "id": "81b44efe-6dec-4775-88a0-d6f26ab3ac75",
   "metadata": {},
   "outputs": [
    {
     "name": "stdout",
     "output_type": "stream",
     "text": [
      "Processing task1\n",
      "Processing task2\n",
      "['task1', 'task2']\n"
     ]
    }
   ],
   "source": [
    "#Protecting a List from Updates \n",
    "def process_tasks(tasks):\n",
    "    for task in tasks[:]:  # Use slice to copy list\n",
    "        print(f\"Processing {task}\")\n",
    "\n",
    "original = ['task1', 'task2']\n",
    "process_tasks(original)\n",
    "print(original)  # Unchanged\n"
   ]
  },
  {
   "cell_type": "code",
   "execution_count": 13,
   "id": "40114baf-97da-44f1-9d54-4ad864d1259c",
   "metadata": {},
   "outputs": [
    {
     "name": "stdout",
     "output_type": "stream",
     "text": [
      "Making pizza with:\n",
      "- cheese\n",
      "- pepperoni\n",
      "- olives\n"
     ]
    }
   ],
   "source": [
    "#Passing an Arbitrary Number of Arguments\n",
    "def make_pizza(*toppings):\n",
    "    print(\"Making pizza with:\")\n",
    "    for topping in toppings:\n",
    "        print(f\"- {topping}\")\n",
    "\n",
    "make_pizza('cheese', 'pepperoni', 'olives')\n"
   ]
  },
  {
   "cell_type": "code",
   "execution_count": 14,
   "id": "81426d5a-bf68-4268-b470-aa9a9128f0cc",
   "metadata": {},
   "outputs": [
    {
     "name": "stdout",
     "output_type": "stream",
     "text": [
      "Pizza size: 12 inch, with toppings:\n",
      "- pepperoni\n",
      "- mushrooms\n"
     ]
    }
   ],
   "source": [
    "#Mixing Positional and Arbitrary Arguments\n",
    "def make_pizza(size, *toppings):\n",
    "    print(f\"Pizza size: {size} inch, with toppings:\")\n",
    "    for topping in toppings:\n",
    "        print(f\"- {topping}\")\n",
    "\n",
    "make_pizza(12, 'pepperoni', 'mushrooms')\n"
   ]
  },
  {
   "cell_type": "code",
   "execution_count": 15,
   "id": "8c4f0279-5293-41f0-a335-a4ab2962a6ff",
   "metadata": {},
   "outputs": [
    {
     "name": "stdout",
     "output_type": "stream",
     "text": [
      "{'first': 'John', 'last': 'Doe', 'location': 'NY', 'field': 'CS'}\n"
     ]
    }
   ],
   "source": [
    "#Using Arbitrary Keyword Arguments\n",
    "def build_profile(first, last, **info):\n",
    "    profile = {'first': first, 'last': last}\n",
    "    profile.update(info)\n",
    "    return profile\n",
    "\n",
    "print(build_profile('John', 'Doe', location='NY', field='CS'))\n"
   ]
  },
  {
   "cell_type": "code",
   "execution_count": null,
   "id": "f4dcc73e-3158-470d-a187-ef53e5c3aa18",
   "metadata": {},
   "outputs": [],
   "source": [
    "with open(\"my_functions.py\", \"w\") as f:\n",
    "    f.write(\"def greet(name):\\n\")\n",
    "    f.write(\"    print(f\\\"Hello, {name}!\\\")\\n\")\n"
   ]
  },
  {
   "cell_type": "code",
   "execution_count": 21,
   "id": "64cf46ba-49cd-4b26-86bc-3ceb2c3c6907",
   "metadata": {},
   "outputs": [],
   "source": [
    "#Storing Your Functions in Modules\n",
    "def greet(name):\n",
    "    print(f\"Hello, {name}!\")"
   ]
  },
  {
   "cell_type": "code",
   "execution_count": 22,
   "id": "1384f7c3-5ecf-4ae7-9b9b-559eb0e7ebd1",
   "metadata": {},
   "outputs": [
    {
     "ename": "ModuleNotFoundError",
     "evalue": "No module named 'my_functions'",
     "output_type": "error",
     "traceback": [
      "\u001b[0;31m---------------------------------------------------------------------------\u001b[0m",
      "\u001b[0;31mModuleNotFoundError\u001b[0m                       Traceback (most recent call last)",
      "Cell \u001b[0;32mIn[22], line 2\u001b[0m\n\u001b[1;32m      1\u001b[0m \u001b[38;5;66;03m#Importing Specific Functions\u001b[39;00m\n\u001b[0;32m----> 2\u001b[0m \u001b[38;5;28;01mfrom\u001b[39;00m \u001b[38;5;21;01mmy_functions\u001b[39;00m \u001b[38;5;28;01mimport\u001b[39;00m greet\n\u001b[1;32m      4\u001b[0m greet(\u001b[38;5;124m\"\u001b[39m\u001b[38;5;124mAlice\u001b[39m\u001b[38;5;124m\"\u001b[39m)\n",
      "\u001b[0;31mModuleNotFoundError\u001b[0m: No module named 'my_functions'"
     ]
    }
   ],
   "source": [
    "#Importing Specific Functions\n",
    "from my_functions import greet\n",
    "\n",
    "greet(\"Alice\")\n"
   ]
  },
  {
   "cell_type": "code",
   "execution_count": 23,
   "id": "87268b38-d4b3-44a5-8793-9b3a853bd20c",
   "metadata": {},
   "outputs": [
    {
     "ename": "ModuleNotFoundError",
     "evalue": "No module named 'my_functions'",
     "output_type": "error",
     "traceback": [
      "\u001b[0;31m---------------------------------------------------------------------------\u001b[0m",
      "\u001b[0;31mModuleNotFoundError\u001b[0m                       Traceback (most recent call last)",
      "Cell \u001b[0;32mIn[23], line 2\u001b[0m\n\u001b[1;32m      1\u001b[0m \u001b[38;5;66;03m#Give a Function an Alias using as\u001b[39;00m\n\u001b[0;32m----> 2\u001b[0m \u001b[38;5;28;01mfrom\u001b[39;00m \u001b[38;5;21;01mmy_functions\u001b[39;00m \u001b[38;5;28;01mimport\u001b[39;00m greet \u001b[38;5;28;01mas\u001b[39;00m welcome\n\u001b[1;32m      4\u001b[0m welcome(\u001b[38;5;124m\"\u001b[39m\u001b[38;5;124mBob\u001b[39m\u001b[38;5;124m\"\u001b[39m)\n",
      "\u001b[0;31mModuleNotFoundError\u001b[0m: No module named 'my_functions'"
     ]
    }
   ],
   "source": [
    "#Give a Function an Alias using as\n",
    "from my_functions import greet as welcome\n",
    "\n",
    "welcome(\"Bob\")\n"
   ]
  },
  {
   "cell_type": "code",
   "execution_count": null,
   "id": "0f7c7618-51ab-4c3c-9711-054e58f00518",
   "metadata": {},
   "outputs": [],
   "source": [
    "#Give a Module an Alias using as\n",
    "import my_functions as mf\n",
    "\n",
    "mf.greet(\"Charlie\")\n"
   ]
  },
  {
   "cell_type": "code",
   "execution_count": null,
   "id": "7e098908-ac81-4fad-87b1-47957b461685",
   "metadata": {},
   "outputs": [],
   "source": [
    "#Importing All Functions in a Module\n",
    "from my_functions import *\n",
    "\n",
    "greet(\"David\")\n"
   ]
  },
  {
   "cell_type": "code",
   "execution_count": null,
   "id": "dcd5a951-2c20-42ea-9442-0580c9d1adb0",
   "metadata": {},
   "outputs": [],
   "source": []
  },
  {
   "cell_type": "code",
   "execution_count": null,
   "id": "b0f192ab-d970-4f22-b4a3-deecf14c317a",
   "metadata": {},
   "outputs": [],
   "source": []
  }
 ],
 "metadata": {
  "kernelspec": {
   "display_name": "anaconda-2024.02-py310",
   "language": "python",
   "name": "conda-env-anaconda-2024.02-py310-py"
  },
  "language_info": {
   "codemirror_mode": {
    "name": "ipython",
    "version": 3
   },
   "file_extension": ".py",
   "mimetype": "text/x-python",
   "name": "python",
   "nbconvert_exporter": "python",
   "pygments_lexer": "ipython3",
   "version": "3.10.14"
  }
 },
 "nbformat": 4,
 "nbformat_minor": 5
}
