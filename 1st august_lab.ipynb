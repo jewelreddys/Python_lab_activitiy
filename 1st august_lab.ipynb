{
 "cells": [
  {
   "cell_type": "code",
   "execution_count": 9,
   "id": "9a889674-1e98-4679-b3bb-9750a45b236b",
   "metadata": {},
   "outputs": [
    {
     "name": "stdout",
     "output_type": "stream",
     "text": [
      "1\n",
      "3\n",
      "5\n",
      "9\n"
     ]
    }
   ],
   "source": [
    "ODDS =[1,3,5,9]\n",
    "a,b,c,d =ODDS\n",
    "print(a)\n",
    "print(b)\n",
    "print(c)\n",
    "print(d)"
   ]
  },
  {
   "cell_type": "code",
   "execution_count": 2,
   "id": "444409b5-2359-4b0a-bef4-4df7c0944769",
   "metadata": {},
   "outputs": [
    {
     "name": "stdout",
     "output_type": "stream",
     "text": [
      "1\n",
      "3\n",
      "[5, 7]\n"
     ]
    }
   ],
   "source": [
    "#Unpacking of Elements\n",
    "a,b,*c =ODDS\n",
    "print(a)\n",
    "print(b)\n",
    "print(c)"
   ]
  },
  {
   "cell_type": "code",
   "execution_count": 5,
   "id": "dfe23cce-158e-4073-80d2-991a6df5e868",
   "metadata": {},
   "outputs": [
    {
     "name": "stdout",
     "output_type": "stream",
     "text": [
      "3\n",
      "[5]\n",
      "7\n"
     ]
    }
   ],
   "source": [
    "a,*b,c=[3,5,7,]\n",
    "print(a)\n",
    "print(b)\n",
    "print(c)"
   ]
  },
  {
   "cell_type": "code",
   "execution_count": 8,
   "id": "92652c53-227a-49c0-8339-d01100b868a6",
   "metadata": {},
   "outputs": [
    {
     "name": "stdout",
     "output_type": "stream",
     "text": [
      "9\n"
     ]
    }
   ],
   "source": [
    "def a(x,y,z):\n",
    "    return(x+y+z)\n",
    "print(a(*ODDS))"
   ]
  },
  {
   "cell_type": "code",
   "execution_count": 11,
   "id": "ac579c7d-8854-435c-99c4-07946169b8f2",
   "metadata": {},
   "outputs": [
    {
     "name": "stdout",
     "output_type": "stream",
     "text": [
      "Hello, Kaushik\n",
      "Hello, Hari\n",
      "Hello, Darshini\n"
     ]
    }
   ],
   "source": [
    "def say_hi(*names):\n",
    "    for n in names:\n",
    "        print(f\"Hello, {n}\")\n",
    "say_hi(\"Kaushik\", \"Hari\", \"Darshini\")"
   ]
  },
  {
   "cell_type": "code",
   "execution_count": 12,
   "id": "0cd7570a-0819-46e3-84c4-37bc6bce5e19",
   "metadata": {},
   "outputs": [
    {
     "name": "stdout",
     "output_type": "stream",
     "text": [
      "name -> Alice\n",
      "age -> 25\n",
      "city -> Paris\n"
     ]
    }
   ],
   "source": [
    "#Unpacking Dictionaries\n",
    "my_dict ={'name':'Alice', 'age':25,'city':'Paris'}\n",
    "for key, value in my_dict.items():\n",
    "    print(f\"{key} -> {value}\")"
   ]
  },
  {
   "cell_type": "code",
   "execution_count": 13,
   "id": "e13c09aa-ce6a-4755-a601-232d11394694",
   "metadata": {},
   "outputs": [
    {
     "name": "stdout",
     "output_type": "stream",
     "text": [
      "{'name': 'Alice'}\n"
     ]
    }
   ],
   "source": [
    "student ={}\n",
    "student['name']='Alice'\n",
    "print(student)"
   ]
  },
  {
   "cell_type": "code",
   "execution_count": 18,
   "id": "f99a420f-6819-406a-b1c9-3016ae4704ce",
   "metadata": {},
   "outputs": [],
   "source": []
  },
  {
   "cell_type": "code",
   "execution_count": 22,
   "id": "1a4faa87-3857-4106-b58a-c2fa4959e22f",
   "metadata": {},
   "outputs": [
    {
     "name": "stdout",
     "output_type": "stream",
     "text": [
      "code:python\n",
      "school:SCOPE\n",
      "course:CSI3007\n"
     ]
    }
   ],
   "source": [
    "def show_info(**info):\n",
    "    for k,v in info.items():\n",
    "      print(f\"{k}:{v}\")\n",
    "data = {\n",
    "\"code\":\"python\",\n",
    "\"school\":\"SCOPE\",\n",
    "\"course\":\"CSI3007\"\n",
    "}\n",
    "show_info(**data)"
   ]
  },
  {
   "cell_type": "code",
   "execution_count": null,
   "id": "8a54eca5-b90a-4ecf-83b5-da35f1539925",
   "metadata": {},
   "outputs": [],
   "source": [
    "#movie_dataset\n"
   ]
  },
  {
   "cell_type": "code",
   "execution_count": null,
   "id": "b0e7ade3-f98e-4361-b6c7-746929f2af27",
   "metadata": {},
   "outputs": [
    {
     "name": "stdin",
     "output_type": "stream",
     "text": [
      "Enter Director Name:  c-\n"
     ]
    }
   ],
   "source": [
    "movie_db = {}\n",
    "\n",
    "# Function to add a movie\n",
    "def add_movie():\n",
    "  title = input(\"Enter Movie Title (unique): \")\n",
    "  if title in movie_db:\n",
    "    print(\"❌ Movie already exists!\\n\")\n",
    "    return\n",
    "\n",
    "director = input(\"Enter Director Name: \")\n",
    "rating = float(input(\"Enter Rating (out of 10): \"))\n",
    "genre = input(\"Enter Genre: \")\n",
    "year = int(input(\"Enter Year of Release: \"))\n",
    "duration = int(input(\"Enter Duration (in minutes): \"))\n",
    "budget = float(input(\"Enter Budget (in crores or millions): \"))\n",
    "language = input(\"Enter Language: \")\n",
    "\n",
    "movie_db[title] = {\n",
    "\"Director\": director,\n",
    "\"Rating\": rating,\n",
    "\"Genre\": genre,\n",
    "\"Year\": year,\n",
    "\"Duration (min)\": duration,\n",
    "\"Budget\": budget,\n",
    "\"Language\": language\n",
    "}\n",
    "print(f\"\\n✅ Movie '{title}' added successfully!\\n\")"
   ]
  },
  {
   "cell_type": "code",
   "execution_count": null,
   "id": "4ed5cfcc-3e0c-4355-a437-8e13935cad8a",
   "metadata": {},
   "outputs": [],
   "source": [
    "movie_db = {}\n",
    "\n",
    "more_movies = {\n",
    "\"Inception\": {\n",
    "\"Director\": \"Christopher Nolan\",\n",
    "\"Rating\": 8.8,\n",
    "\"Genre\": \"Sci-Fi\",\n",
    "\"Year\": 2010,\n",
    "\"Duration (min)\": 148,\n",
    "\"Budget\": 160.0,\n",
    "\"Language\": \"English\"\n",
    "},\n",
    "\"Avengers: Endgame\": {\n",
    "\"Director\": \"Anthony and Joe Russo\",\n",
    "\"Rating\": 8.4,\n",
    "\"Genre\": \"Action\",\n",
    "\"Year\": 2019,\n",
    "\"Duration (min)\": 181,\n",
    "\"Budget\": 356.0,\n",
    "\"Language\": \"English\"\n",
    "},\n",
    "\"Parasite\": {\n",
    "\"Director\": \"Bong Joon-ho\",\n",
    "\"Rating\": 8.6,\n",
    "\"Genre\": \"Thriller\",\n",
    "\"Year\": 2019,\n",
    "\"Duration (min)\": 132,\n",
    "\"Budget\": 11.0,\n",
    "\"Language\": \"Korean\"\n",
    "},\n",
    "\"The Godfather\": {\n",
    "\"Director\": \"Francis Ford Coppola\",\n",
    "\"Rating\": 9.2,\n",
    "\"Genre\": \"Crime\",\n",
    "\"Year\": 1972,\n",
    "\"Duration (min)\": 175,\n",
    "\"Budget\": 6.0,\n",
    "\"Language\": \"English\"\n",
    "},\n",
    "\"3 Idiots\": {\n",
    "\"Director\": \"Rajkumar Hirani\",\n",
    "\"Rating\": 8.4,\n",
    "\"Genre\": \"Comedy-Drama\",\n",
    "\"Year\": 2009,\n",
    "\"Duration (min)\": 170,\n",
    "\"Budget\": 35.0,\n",
    "\"Language\": \"Hindi\"\n",
    "},\n",
    "\"Spirited Away\": {\n",
    "\"Director\": \"Hayao Miyazaki\",\n",
    "\"Rating\": 8.6,\n",
    "\"Genre\": \"Animation\",\n",
    "\"Year\": 2001,\n",
    "\"Duration (min)\": 125,\n",
    "\"Budget\": 19.0,\n",
    "\"Language\": \"Japanese\"\n",
    "},\n",
    "\"Dangal\": {\n",
    "\"Director\": \"Nitesh Tiwari\",\n",
    "\"Rating\": 8.3,\n",
    "\"Genre\": \"Biography\",\n",
    "\"Year\": 2016,\n",
    "\"Duration (min)\": 161,\n",
    "\"Budget\": 70.0,\n",
    "\"Language\": \"Hindi\"\n",
    "}\n",
    "}\n"
   ]
  }
 ],
 "metadata": {
  "kernelspec": {
   "display_name": "anaconda-2024.02-py310",
   "language": "python",
   "name": "conda-env-anaconda-2024.02-py310-py"
  },
  "language_info": {
   "codemirror_mode": {
    "name": "ipython",
    "version": 3
   },
   "file_extension": ".py",
   "mimetype": "text/x-python",
   "name": "python",
   "nbconvert_exporter": "python",
   "pygments_lexer": "ipython3",
   "version": "3.10.14"
  }
 },
 "nbformat": 4,
 "nbformat_minor": 5
}
