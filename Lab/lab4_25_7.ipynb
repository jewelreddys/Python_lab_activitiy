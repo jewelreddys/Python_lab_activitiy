{
 "cells": [
  {
   "cell_type": "code",
   "execution_count": 1,
   "id": "11737f8d-99b2-493e-bca6-62deeec027dd",
   "metadata": {},
   "outputs": [
    {
     "data": {
      "text/plain": [
       "'Sharmila'"
      ]
     },
     "execution_count": 1,
     "metadata": {},
     "output_type": "execute_result"
    }
   ],
   "source": [
    "S = 'Sharmila'\n",
    "S"
   ]
  },
  {
   "cell_type": "code",
   "execution_count": 2,
   "id": "34c7641d-4fce-4ec5-8b3d-bf4205b0e646",
   "metadata": {},
   "outputs": [
    {
     "data": {
      "text/plain": [
       "'Sharmilabanuk'"
      ]
     },
     "execution_count": 2,
     "metadata": {},
     "output_type": "execute_result"
    }
   ],
   "source": [
    "S='Sharmila' + 'banu'\n",
    "S += 'k'\n",
    "S"
   ]
  },
  {
   "cell_type": "code",
   "execution_count": 3,
   "id": "acc3b2e7-4dca-4159-8aa7-ba5175f7d2d4",
   "metadata": {},
   "outputs": [
    {
     "data": {
      "text/plain": [
       "135632456319280"
      ]
     },
     "execution_count": 3,
     "metadata": {},
     "output_type": "execute_result"
    }
   ],
   "source": [
    "id(S)\n"
   ]
  },
  {
   "cell_type": "code",
   "execution_count": 4,
   "id": "a4322ef0-719a-4da6-847d-6e267e3fe61b",
   "metadata": {},
   "outputs": [
    {
     "data": {
      "text/plain": [
       "135632456319280"
      ]
     },
     "execution_count": 4,
     "metadata": {},
     "output_type": "execute_result"
    }
   ],
   "source": [
    "id(S)"
   ]
  },
  {
   "cell_type": "code",
   "execution_count": 5,
   "id": "d28eca59-3c10-45a2-96bc-31425ac3e9cd",
   "metadata": {},
   "outputs": [
    {
     "data": {
      "text/plain": [
       "'Sharmilabanik'"
      ]
     },
     "execution_count": 5,
     "metadata": {},
     "output_type": "execute_result"
    }
   ],
   "source": [
    "S = S.replace('u' , 'i')\n",
    "S"
   ]
  },
  {
   "cell_type": "code",
   "execution_count": 23,
   "id": "679a744a-b029-47ee-9b87-ee73883fad3e",
   "metadata": {},
   "outputs": [
    {
     "name": "stdout",
     "output_type": "stream",
     "text": [
      "100! = 93326215443944152681699238856266700490715968264381621468592963895217599993229915608941463976156518286253697920827223758251185210916864000000000000000000000000\n"
     ]
    }
   ],
   "source": [
    "# Calculating 100 factorial\n",
    "factorial = 1\n",
    "for i in range(1, 101):\n",
    "    factorial *= i\n",
    "\n",
    "print(\"100! =\", factorial)\n"
   ]
  },
  {
   "cell_type": "code",
   "execution_count": null,
   "id": "9c442bb7-1740-410a-9498-e1f523c0c8d7",
   "metadata": {},
   "outputs": [],
   "source": [
    "#factorials like 100! work in Python \n",
    "#but not so easily in Java is due to how each language handles large integers.\n",
    "#Python supports arbitrary-precision integers natively.\n",
    "\n",
    "This means numbers can grow as big as your memory allows.\n",
    "\n",
    "You can compute 100!, 1000!, or even 100000! without overflow.\n",
    "#Java’s primitive types (int, long) have fixed sizes:\n",
    "\n",
    "int: 32-bit, max value ≈ 2.1 billion\n",
    "\n",
    "long: 64-bit, max value ≈ 9.2 quintillion\n",
    "\n",
    "100! ≈ 9.33 x 10^157, which is way bigger than what long can store."
   ]
  },
  {
   "cell_type": "code",
   "execution_count": 25,
   "id": "7c539a08-40f1-4b91-b749-5c22408df817",
   "metadata": {},
   "outputs": [
    {
     "name": "stdout",
     "output_type": "stream",
     "text": [
      "HELLO WORLD\n"
     ]
    }
   ],
   "source": [
    "#String Handling (Bad practice) Strings are immutable \n",
    "result = \"\"\n",
    "for char in \"hello world\":\n",
    "    result += char.upper()\n",
    "print(result)\n"
   ]
  },
  {
   "cell_type": "code",
   "execution_count": 31,
   "id": "d3b44056-c628-45a2-95a2-6a435365b091",
   "metadata": {},
   "outputs": [],
   "source": [
    "for i in range(10):\n",
    "       S= str(i)\n",
    "    "
   ]
  },
  {
   "cell_type": "code",
   "execution_count": 32,
   "id": "0a1c62fc-2351-460c-9ee4-e4ee826af4ee",
   "metadata": {},
   "outputs": [
    {
     "name": "stdout",
     "output_type": "stream",
     "text": [
      "banana\n"
     ]
    }
   ],
   "source": [
    "#Using for loop with string (Immutable):\n",
    "text = \"banana\"\n",
    "\n",
    "for char in text:\n",
    "    if char == 'a':\n",
    "        char = 'x' \n",
    "print(text)"
   ]
  },
  {
   "cell_type": "code",
   "execution_count": 33,
   "id": "b1bb6bdd-2f7e-43a1-8e85-264dea804aa8",
   "metadata": {},
   "outputs": [
    {
     "name": "stdout",
     "output_type": "stream",
     "text": [
      "bxnxnx\n"
     ]
    }
   ],
   "source": [
    "#Equivalent with list (Mutable):\n",
    "text_list = list(\"banana\")  # ['b', 'a', 'n', 'a', 'n', 'a']\n",
    "\n",
    "for i in range(len(text_list)):\n",
    "    if text_list[i] == 'a':\n",
    "        text_list[i] = 'x'  \n",
    "\n",
    "print(\"\".join(text_list))"
   ]
  },
  {
   "cell_type": "code",
   "execution_count": 34,
   "id": "97ad3c2e-e68b-44be-8e90-6449a2e6ab46",
   "metadata": {},
   "outputs": [
    {
     "name": "stdout",
     "output_type": "stream",
     "text": [
      "₹\n",
      "π\n",
      "ç\n"
     ]
    }
   ],
   "source": [
    "print('\\u20B9')  # ₹ (Indian Rupee Symbol)\n",
    "print('\\u03C0')  # π (Greek pi)\n",
    "print('\\u00E7')  # ç\n"
   ]
  },
  {
   "cell_type": "code",
   "execution_count": 35,
   "id": "a6a4963c-a3bc-44cf-a5c4-d6bd26e1196b",
   "metadata": {},
   "outputs": [
    {
     "name": "stdout",
     "output_type": "stream",
     "text": [
      "😀\n"
     ]
    }
   ],
   "source": [
    "print('\\U0001F600')"
   ]
  },
  {
   "cell_type": "code",
   "execution_count": 36,
   "id": "71252d15-8c4b-4c89-afe7-1c5d460418a3",
   "metadata": {},
   "outputs": [
    {
     "name": "stdout",
     "output_type": "stream",
     "text": [
      "₹\n",
      "8377\n",
      "π\n",
      "960\n"
     ]
    }
   ],
   "source": [
    "print(chr(8377))     \n",
    "print(ord('₹'))      \n",
    "\n",
    "print(chr(960))      \n",
    "print(ord('π'))     \n"
   ]
  },
  {
   "cell_type": "code",
   "execution_count": null,
   "id": "2495513e-9b09-488a-9a46-726c017ede56",
   "metadata": {},
   "outputs": [],
   "source": []
  },
  {
   "cell_type": "code",
   "execution_count": null,
   "id": "af0f5e0e-86be-45b4-b628-1053f9e9c87d",
   "metadata": {},
   "outputs": [],
   "source": []
  },
  {
   "cell_type": "code",
   "execution_count": 6,
   "id": "ae8f90d9-087a-4d08-a241-223489b4ee0d",
   "metadata": {},
   "outputs": [
    {
     "name": "stdout",
     "output_type": "stream",
     "text": [
      "Ω\n"
     ]
    }
   ],
   "source": [
    "print('\\u03A9')"
   ]
  },
  {
   "cell_type": "code",
   "execution_count": 7,
   "id": "68a993a0-415e-483b-9913-2d254d422f4b",
   "metadata": {},
   "outputs": [],
   "source": [
    "import unicodedata\n",
    "omega = unicodedata.lookup('GREEK CAPITAL LETTER OMEGA')\n",
    "smiley = unicodedata.lookup('GRINNING FACE')"
   ]
  },
  {
   "cell_type": "code",
   "execution_count": 8,
   "id": "fbf48dc0-deb9-43bc-92b9-06e438c9f14e",
   "metadata": {},
   "outputs": [
    {
     "name": "stdout",
     "output_type": "stream",
     "text": [
      "Ω\n",
      "😀\n"
     ]
    }
   ],
   "source": [
    "print(omega)\n",
    "print(smiley)\n"
   ]
  },
  {
   "cell_type": "code",
   "execution_count": 9,
   "id": "1fe1a8ac-77aa-45ce-ba9a-a023e985950a",
   "metadata": {},
   "outputs": [
    {
     "name": "stdout",
     "output_type": "stream",
     "text": [
      "Hello 😊\n"
     ]
    }
   ],
   "source": [
    "smiley = chr(128522)\n",
    "print(\"Hello\", smiley)"
   ]
  },
  {
   "cell_type": "code",
   "execution_count": 10,
   "id": "fb5ce1d3-94d8-4e31-8970-1d15109ca86e",
   "metadata": {},
   "outputs": [
    {
     "name": "stdout",
     "output_type": "stream",
     "text": [
      "Defaulting to user installation because normal site-packages is not writeable\n",
      "Looking in links: /usr/share/pip-wheels\n",
      "Requirement already satisfied: nltk in /opt/conda/envs/anaconda-2024.02-py310/lib/python3.10/site-packages (3.8.1)\n",
      "Requirement already satisfied: click in /opt/conda/envs/anaconda-2024.02-py310/lib/python3.10/site-packages (from nltk) (8.1.7)\n",
      "Requirement already satisfied: joblib in /opt/conda/envs/anaconda-2024.02-py310/lib/python3.10/site-packages (from nltk) (1.2.0)\n",
      "Requirement already satisfied: regex>=2021.8.3 in /opt/conda/envs/anaconda-2024.02-py310/lib/python3.10/site-packages (from nltk) (2023.10.3)\n",
      "Requirement already satisfied: tqdm in /opt/conda/envs/anaconda-2024.02-py310/lib/python3.10/site-packages (from nltk) (4.65.0)\n"
     ]
    }
   ],
   "source": [
    "!pip install nltk"
   ]
  },
  {
   "cell_type": "code",
   "execution_count": 11,
   "id": "5712a034-200d-4c8f-ab09-2cdf22c4fd50",
   "metadata": {},
   "outputs": [],
   "source": [
    "import nltk"
   ]
  },
  {
   "cell_type": "code",
   "execution_count": 20,
   "id": "f62aa5c8-c054-43b5-8175-7831af11d861",
   "metadata": {},
   "outputs": [
    {
     "name": "stderr",
     "output_type": "stream",
     "text": [
      "[nltk_data] Downloading package punkt to\n",
      "[nltk_data]     /home/e9f2e6f2-2728-40a7-9938-\n",
      "[nltk_data]     d80ebfe53d70/nltk_data...\n",
      "[nltk_data]   Package punkt is already up-to-date!\n",
      "[nltk_data] Downloading package averaged_perceptron_tagger to\n",
      "[nltk_data]     /home/e9f2e6f2-2728-40a7-9938-\n",
      "[nltk_data]     d80ebfe53d70/nltk_data...\n",
      "[nltk_data]   Package averaged_perceptron_tagger is already up-to-\n",
      "[nltk_data]       date!\n"
     ]
    },
    {
     "data": {
      "text/plain": [
       "True"
      ]
     },
     "execution_count": 20,
     "metadata": {},
     "output_type": "execute_result"
    }
   ],
   "source": [
    "import nltk\n",
    "nltk.download('punkt')\n",
    "nltk.download('averaged_perceptron_tagger')"
   ]
  },
  {
   "cell_type": "code",
   "execution_count": 21,
   "id": "d6d002bd-9ba3-42e1-a7cd-a02e6f54c288",
   "metadata": {},
   "outputs": [
    {
     "name": "stdout",
     "output_type": "stream",
     "text": [
      "[('This', 'DT'), ('is', 'VBZ'), ('a', 'DT'), ('sample', 'JJ'), ('sentence', 'NN'), ('.', '.')]\n",
      "[('Here', 'RB'), ('is', 'VBZ'), ('another', 'DT'), ('one', 'NN'), ('.', '.')]\n",
      "[('NLTK', 'NNP'), ('is', 'VBZ'), ('a', 'DT'), ('powerful', 'JJ'), ('library', 'NN'), ('for', 'IN'), ('natural', 'JJ'), ('language', 'NN'), ('processing', 'NN'), ('.', '.')]\n"
     ]
    }
   ],
   "source": [
    "from nltk.tokenize import sent_tokenize, word_tokenize\n",
    "for text in text:\n",
    "    sentences =nltk.sent_tokenize(text)\n",
    "    for sentence in sentences:\n",
    "        words = nltk.word_tokenize(sentence)\n",
    "        tagged_words = nltk.pos_tag(words)\n",
    "        print(tagged_words)"
   ]
  },
  {
   "cell_type": "code",
   "execution_count": null,
   "id": "0dfa09a5-fc71-461f-a08d-3f623d590a76",
   "metadata": {},
   "outputs": [],
   "source": []
  }
 ],
 "metadata": {
  "kernelspec": {
   "display_name": "anaconda-2024.02-py310",
   "language": "python",
   "name": "conda-env-anaconda-2024.02-py310-py"
  },
  "language_info": {
   "codemirror_mode": {
    "name": "ipython",
    "version": 3
   },
   "file_extension": ".py",
   "mimetype": "text/x-python",
   "name": "python",
   "nbconvert_exporter": "python",
   "pygments_lexer": "ipython3",
   "version": "3.10.14"
  }
 },
 "nbformat": 4,
 "nbformat_minor": 5
}
