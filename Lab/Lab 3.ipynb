{
 "cells": [
  {
   "cell_type": "code",
   "execution_count": 1,
   "id": "bd8314ad-e899-4268-819c-81b0df3a8604",
   "metadata": {},
   "outputs": [],
   "source": [
    "questions = [\n",
    "    \"What type of climate do you prefer? (cold / warm / tropical)\",\n",
    "    \"Do you prefer beaches, mountains, or cities?\",\n",
    "    \"What is your budget? (low / medium / high)\",\n",
    "    \"How many days do you plan to travel?\",\n",
    "    \"Are you traveling solo, with partner, or with family?\",\n",
    "    \"Do you enjoy adventure activities? (yes / no)\",\n",
    "    \"Are you interested in culture and history? (yes / no)\",\n",
    "    \"Do you like nightlife and shopping? (yes / no)\",\n",
    "    \"What continent would you prefer to visit? (Asia / Europe / America / Any)\",\n",
    "    \"Have you traveled internationally before? (yes / no)\"\n",
    "]\n"
   ]
  },
  {
   "cell_type": "code",
   "execution_count": 2,
   "id": "26229096-d273-47e7-9f5d-93627a48b7af",
   "metadata": {},
   "outputs": [],
   "source": [
    "# Base destination list\n",
    "destinations = []\n",
    "\n",
    "# Collaborative filtering rule (sample logic)\n",
    "interest_map = {\n",
    "    \"beaches\": [\"Bali\", \"Maldives\", \"Goa\", \"Phuket\"],\n",
    "    \"mountains\": [\"Swiss Alps\", \"Nepal\", \"Manali\", \"Rocky Mountains\"],\n",
    "    \"cities\": [\"Tokyo\", \"New York\", \"Paris\", \"Dubai\"],\n",
    "    \"adventure\": [\"New Zealand\", \"Nepal\", \"South Africa\"],\n",
    "    \"culture\": [\"Rome\", \"Kyoto\", \"Istanbul\"],\n",
    "    \"nightlife\": [\"Bangkok\", \"Amsterdam\", \"Las Vegas\"],\n",
    "    \"shopping\": [\"Dubai\", \"Singapore\", \"London\"]\n",
    "}\n"
   ]
  },
  {
   "cell_type": "code",
   "execution_count": 3,
   "id": "eee4942e-53db-44ae-be77-bab1446e2c04",
   "metadata": {},
   "outputs": [],
   "source": [
    "# Simulated user answers\n",
    "user_answers = {\n",
    "    \"climate\": \"tropical\",\n",
    "    \"preference\": \"beaches\",\n",
    "    \"budget\": \"medium\",\n",
    "    \"days\": 5,\n",
    "    \"group\": \"partner\",\n",
    "    \"adventure\": \"yes\",\n",
    "    \"culture\": \"yes\",\n",
    "    \"nightlife\": \"no\",\n",
    "    \"continent\": \"Asia\",\n",
    "    \"international\": \"yes\"\n",
    "}\n"
   ]
  },
  {
   "cell_type": "code",
   "execution_count": 4,
   "id": "1f669733-294a-4cd4-b592-c4c00b7ab0ce",
   "metadata": {},
   "outputs": [
    {
     "name": "stdout",
     "output_type": "stream",
     "text": [
      "🏝️ Recommended Travel Destinations for You:\n",
      "['Bora Bora', 'Bali', 'Goa', 'Istanbul', 'Kyoto', 'Maldives', 'Nepal', 'New Zealand', 'Phuket', 'Rome', 'South Africa']\n"
     ]
    }
   ],
   "source": [
    "# Use list functions to add recommendations\n",
    "if user_answers[\"preference\"] == \"beaches\":\n",
    "    for place in interest_map[\"beaches\"]:\n",
    "        destinations.append(place)\n",
    "\n",
    "if user_answers[\"adventure\"] == \"yes\":\n",
    "    destinations += interest_map[\"adventure\"]  # extend list\n",
    "\n",
    "if user_answers[\"culture\"] == \"yes\":\n",
    "    destinations += interest_map[\"culture\"]\n",
    "\n",
    "# Remove duplicates\n",
    "destinations = list(set(destinations))\n",
    "\n",
    "# Sort alphabetically\n",
    "destinations.sort()\n",
    "\n",
    "# Remove less relevant option (simulate filtering)\n",
    "if \"Las Vegas\" in destinations:\n",
    "    destinations.pop(destinations.index(\"Las Vegas\"))\n",
    "\n",
    "# Insert a surprise suggestion\n",
    "destinations.insert(0, \"Bora Bora\")  # dream destination\n",
    "\n",
    "# Final destination list\n",
    "print(\"🏝️ Recommended Travel Destinations for You:\")\n",
    "print(destinations)\n"
   ]
  },
  {
   "cell_type": "code",
   "execution_count": 5,
   "id": "5090dd6f-5311-4e30-9fed-d73d6c69519d",
   "metadata": {},
   "outputs": [
    {
     "name": "stdout",
     "output_type": "stream",
     "text": [
      "\n",
      "📍 Travel Itinerary for You:\n",
      "\n",
      "Destination 1: Bora Bora\n",
      " - Duration: 2 days\n",
      " - Activities: Beach Relaxation, Snorkeling, Local Cuisine\n",
      "\n",
      "Destination 2: Bali\n",
      " - Duration: 2 days\n",
      " - Activities: Cultural Tours, Sightseeing, Local Shopping\n",
      "\n",
      "🧳 You're traveling with your partner, with a medium budget.\n",
      "✈️ Preferred climate: tropical\n",
      "\n"
     ]
    }
   ],
   "source": [
    "# Pick top 1–2 for sample itinerary\n",
    "selected = destinations[:2]\n",
    "\n",
    "itinerary = f\"\"\"\n",
    "📍 Travel Itinerary for You:\n",
    "\n",
    "Destination 1: {selected[0]}\n",
    " - Duration: {user_answers['days']//2} days\n",
    " - Activities: Beach Relaxation, Snorkeling, Local Cuisine\n",
    "\n",
    "Destination 2: {selected[1]}\n",
    " - Duration: {user_answers['days']//2} days\n",
    " - Activities: Cultural Tours, Sightseeing, Local Shopping\n",
    "\n",
    "🧳 You're traveling with your {user_answers['group']}, with a {user_answers['budget']} budget.\n",
    "✈️ Preferred climate: {user_answers['climate']}\n",
    "\"\"\"\n",
    "\n",
    "print(itinerary)\n"
   ]
  },
  {
   "cell_type": "code",
   "execution_count": null,
   "id": "35aff267-80ce-4999-a428-6dd1831d4fd4",
   "metadata": {},
   "outputs": [],
   "source": []
  }
 ],
 "metadata": {
  "kernelspec": {
   "display_name": "anaconda-2024.02-py310",
   "language": "python",
   "name": "conda-env-anaconda-2024.02-py310-py"
  },
  "language_info": {
   "codemirror_mode": {
    "name": "ipython",
    "version": 3
   },
   "file_extension": ".py",
   "mimetype": "text/x-python",
   "name": "python",
   "nbconvert_exporter": "python",
   "pygments_lexer": "ipython3",
   "version": "3.10.14"
  }
 },
 "nbformat": 4,
 "nbformat_minor": 5
}
