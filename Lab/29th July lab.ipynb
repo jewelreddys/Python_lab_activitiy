{
 "cells": [
  {
   "cell_type": "code",
   "execution_count": 1,
   "id": "2d8fae6f-26ab-4543-bc4d-898b93e7b717",
   "metadata": {},
   "outputs": [
    {
     "name": "stdout",
     "output_type": "stream",
     "text": [
      "1\n",
      "2\n",
      "3\n",
      "4\n",
      "5\n",
      "6\n",
      "7\n",
      "8\n",
      "9\n"
     ]
    }
   ],
   "source": [
    "for i in range(1,10):\n",
    "    print(i)\n",
    "    "
   ]
  },
  {
   "cell_type": "code",
   "execution_count": 5,
   "id": "c336e3ac-6628-47da-ab6a-ac0572a779cb",
   "metadata": {},
   "outputs": [
    {
     "name": "stdout",
     "output_type": "stream",
     "text": [
      "[1, 2]\n",
      "[6, 7]\n",
      "[3, 4, 5, 6, 7]\n"
     ]
    }
   ],
   "source": [
    "m = [1,2,3,4,5,6,7] # original/complete list\n",
    "print(m[:2]) # first 2 element \n",
    "print(m[-2:]) # last 2 element \n",
    "print(m[2:]) # 3rd element to the last"
   ]
  },
  {
   "cell_type": "markdown",
   "id": "5f9fec32-56c0-4426-9e8f-da7aa4b88747",
   "metadata": {},
   "source": [
    "#shallow and deep coy\n",
    "l1=m [ : ] #deep coy\n",
    "l2=m #shallow copy\n",
    "print(m,id(l1),id(l),id(l2),l1,l2)"
   ]
  },
  {
   "cell_type": "code",
   "execution_count": 8,
   "id": "6b5bd64a-dd18-4d85-9c2e-99f93ffd1980",
   "metadata": {},
   "outputs": [
    {
     "name": "stdout",
     "output_type": "stream",
     "text": [
      "[1, 2, 3, 4, 5, 6, 7, 4, 4] [1, 2, 3, 4, 5, 6, 7] [1, 2, 3, 4, 5, 6, 7, 4, 4]\n"
     ]
    }
   ],
   "source": [
    "m.append(4)\n",
    "print(m,l1,l2)"
   ]
  },
  {
   "cell_type": "code",
   "execution_count": 13,
   "id": "3331b07f-b91e-4979-9b2d-47925b6fe0ad",
   "metadata": {},
   "outputs": [
    {
     "name": "stdout",
     "output_type": "stream",
     "text": [
      "2\n",
      "3\n",
      "4\n"
     ]
    }
   ],
   "source": [
    "#looping through the slice\n",
    "w=m[:3]\n",
    "for i in w:\n",
    "    print(m[i])"
   ]
  },
  {
   "cell_type": "code",
   "execution_count": 12,
   "id": "98850d56-4a38-44c4-9de2-03aa9168d746",
   "metadata": {},
   "outputs": [
    {
     "name": "stdout",
     "output_type": "stream",
     "text": [
      "(50, 100)\n"
     ]
    }
   ],
   "source": [
    "#looping tuple\n",
    "t=(50,100,150)\n",
    "print(t[:2])\n"
   ]
  },
  {
   "cell_type": "code",
   "execution_count": 14,
   "id": "f593b2a8-34e5-4458-bf0f-cdea10a27abd",
   "metadata": {},
   "outputs": [
    {
     "ename": "TypeError",
     "evalue": "'tuple' object does not support item assignment",
     "output_type": "error",
     "traceback": [
      "\u001b[0;31m---------------------------------------------------------------------------\u001b[0m",
      "\u001b[0;31mTypeError\u001b[0m                                 Traceback (most recent call last)",
      "Cell \u001b[0;32mIn[14], line 1\u001b[0m\n\u001b[0;32m----> 1\u001b[0m t[\u001b[38;5;241m2\u001b[39m] \u001b[38;5;241m=\u001b[39m \u001b[38;5;241m5\u001b[39m\n",
      "\u001b[0;31mTypeError\u001b[0m: 'tuple' object does not support item assignment"
     ]
    }
   ],
   "source": [
    "#Assigment error in tuple\n",
    "t[2] = 5"
   ]
  },
  {
   "cell_type": "code",
   "execution_count": null,
   "id": "4c7eeb58-c881-47f3-81df-c03517eecdf8",
   "metadata": {},
   "outputs": [],
   "source": [
    "#Copy the list:\n",
    "my_fav = ['cake','pizza','stew']\n",
    "friend_fav = my_fav[:] #if use this a different list with same values is formed, this is copy-by-value  \n",
    "my_fav.pop() # removing the last element\n",
    "friend_fav.append('pasta') # adding a new element\n",
    "print('copied list:',friend_fav)\n",
    "print('original list:',my_fav)"
   ]
  },
  {
   "cell_type": "code",
   "execution_count": null,
   "id": "d8a2022a-1199-4c91-b049-c57bd924bbe2",
   "metadata": {},
   "outputs": [],
   "source": []
  }
 ],
 "metadata": {
  "kernelspec": {
   "display_name": "anaconda-2024.02-py310",
   "language": "python",
   "name": "conda-env-anaconda-2024.02-py310-py"
  },
  "language_info": {
   "codemirror_mode": {
    "name": "ipython",
    "version": 3
   },
   "file_extension": ".py",
   "mimetype": "text/x-python",
   "name": "python",
   "nbconvert_exporter": "python",
   "pygments_lexer": "ipython3",
   "version": "3.10.14"
  }
 },
 "nbformat": 4,
 "nbformat_minor": 5
}
