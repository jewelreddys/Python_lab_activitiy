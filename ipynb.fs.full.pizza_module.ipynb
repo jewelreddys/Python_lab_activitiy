{
 "cells": [
  {
   "cell_type": "code",
   "execution_count": 3,
   "id": "6bc9bde0-0157-42b8-b964-d360032dc1f0",
   "metadata": {
    "scrolled": true
   },
   "outputs": [
    {
     "name": "stdout",
     "output_type": "stream",
     "text": [
      "Defaulting to user installation because normal site-packages is not writeable\n",
      "Looking in links: /usr/share/pip-wheels\n",
      "Requirement already satisfied: ipynb in ./.local/lib/python3.10/site-packages (0.5.1)\n",
      "(size).inch pizza with:\n",
      "-pineapple\n"
     ]
    }
   ],
   "source": [
    "!pip install ipynb\n",
    "from ipynb.fs.full.pizza_module import pizza\n"
   ]
  },
  {
   "cell_type": "code",
   "execution_count": 2,
   "id": "7e732e6f-1329-4d2c-99eb-4d9c8abf8a28",
   "metadata": {},
   "outputs": [
    {
     "name": "stdout",
     "output_type": "stream",
     "text": [
      "['1st august_lab.ipynb', 'pizza_module.ipynb', 'Untitled5.ipynb', 'Untitled.ipynb', 'Untitled1.ipynb', 'Lab 3.ipynb', 'Untitled6-Copy1.ipynb', 'ipynb.fs.full.pizza.ipynb', 'Untitled3.ipynb', 'lab4_25_7.ipynb', 'README.ipynb', '29th July lab.ipynb', 'Encoding.ipynb', 'Untitled2.ipynb', 'Untitled4.ipynb']\n"
     ]
    }
   ],
   "source": [
    "import os\n",
    "print([f for f in os.listdir() if f.endswith(\".ipynb\")])\n"
   ]
  },
  {
   "cell_type": "code",
   "execution_count": 4,
   "id": "f93ed5da-e0b8-4b9c-bce5-df1413dd067b",
   "metadata": {},
   "outputs": [
    {
     "ename": "ModuleNotFoundError",
     "evalue": "No module named 'pizza'",
     "output_type": "error",
     "traceback": [
      "\u001b[0;31m---------------------------------------------------------------------------\u001b[0m",
      "\u001b[0;31mModuleNotFoundError\u001b[0m                       Traceback (most recent call last)",
      "Cell \u001b[0;32mIn[4], line 1\u001b[0m\n\u001b[0;32m----> 1\u001b[0m \u001b[38;5;28;01mimport\u001b[39;00m \u001b[38;5;21;01mpizza\u001b[39;00m\n",
      "\u001b[0;31mModuleNotFoundError\u001b[0m: No module named 'pizza'"
     ]
    }
   ],
   "source": [
    "import pizza\n"
   ]
  },
  {
   "cell_type": "code",
   "execution_count": 5,
   "id": "c6500e79-ddb0-40f5-bae1-12ac1aefb587",
   "metadata": {},
   "outputs": [
    {
     "name": "stdout",
     "output_type": "stream",
     "text": [
      "(size).inch pizza with:\n",
      "-pineapple\n"
     ]
    }
   ],
   "source": [
    "pizza(12,'pineapple')"
   ]
  }
 ],
 "metadata": {
  "kernelspec": {
   "display_name": "anaconda-2024.02-py310",
   "language": "python",
   "name": "conda-env-anaconda-2024.02-py310-py"
  },
  "language_info": {
   "codemirror_mode": {
    "name": "ipython",
    "version": 3
   },
   "file_extension": ".py",
   "mimetype": "text/x-python",
   "name": "python",
   "nbconvert_exporter": "python",
   "pygments_lexer": "ipython3",
   "version": "3.10.14"
  }
 },
 "nbformat": 4,
 "nbformat_minor": 5
}
