{
 "cells": [
  {
   "cell_type": "markdown",
   "id": "0f680d27-3354-4ebf-983e-bfe5d03aa5e0",
   "metadata": {},
   "source": [
    "# 2) Movie Database Project using a LIST of NESTED DICTIONARIES"
   ]
  },
  {
   "cell_type": "code",
   "execution_count": 1,
   "id": "1fbfe865-4f8c-4457-bea3-376289e6ff1a",
   "metadata": {},
   "outputs": [],
   "source": [
    "movie_db = []  # Each movie is a nested dictionary stored in a list"
   ]
  },
  {
   "cell_type": "markdown",
   "id": "102611de-9cfa-490f-92ea-845ccdbe32b5",
   "metadata": {},
   "source": [
    "## (i) Add a Movie (Storage)"
   ]
  },
  {
   "cell_type": "code",
   "execution_count": 2,
   "id": "8aa46b89-9f92-45f0-a672-459397b04415",
   "metadata": {},
   "outputs": [],
   "source": [
    "def add_movie():\n",
    "    title = input(\"Enter Movie Title: \").strip()\n",
    "    director = input(\"Enter Director: \").strip()\n",
    "    rating = float(input(\"Enter Rating (out of 10): \"))\n",
    "    genre = input(\"Enter Genre: \").strip()\n",
    "    year = int(input(\"Enter Year of Release: \"))\n",
    "    duration = int(input(\"Enter Duration (min): \"))\n",
    "    budget = float(input(\"Enter Budget: \"))\n",
    "    language = input(\"Enter Language: \").strip()\n",
    "\n",
    "    movie = {\n",
    "        \"Title\": title,\n",
    "        \"Details\": {\n",
    "            \"Director\": director,\n",
    "            \"Rating\": rating,\n",
    "            \"Genre\": genre,\n",
    "            \"Year\": year,\n",
    "            \"Duration (min)\": duration,\n",
    "            \"Language\": language\n",
    "        },\n",
    "        \"Production\": {\n",
    "            \"Budget\": budget\n",
    "        }\n",
    "    }\n",
    "\n",
    "    movie_db.append(movie)\n",
    "    print(f\"✅ Movie '{title}' added!\\n\")"
   ]
  },
  {
   "cell_type": "markdown",
   "id": "d5591008-19b0-4691-8fc3-a1e2ebe90a6b",
   "metadata": {},
   "source": [
    "## Helper: Print a movie with nested dictionary unpacking"
   ]
  },
  {
   "cell_type": "code",
   "execution_count": 3,
   "id": "4e381826-3d66-49a3-bcf7-a2c483bd5c5d",
   "metadata": {},
   "outputs": [],
   "source": [
    "def print_movie(movie):\n",
    "    print(f\"\"\"\n",
    "Title: {movie['Title']}\n",
    "Director: {movie['Details']['Director']}\n",
    "Rating: {movie['Details']['Rating']}\n",
    "Genre: {movie['Details']['Genre']}\n",
    "Year: {movie['Details']['Year']}\n",
    "Duration: {movie['Details']['Duration (min)']} min\n",
    "Budget: {movie['Production']['Budget']}\n",
    "Language: {movie['Details']['Language']}\n",
    "\"\"\")"
   ]
  },
  {
   "cell_type": "markdown",
   "id": "2f114bd3-1bd8-42ec-8baa-74f095f838d9",
   "metadata": {},
   "source": [
    "## (ii) Retrieve Movie(s) by Name"
   ]
  },
  {
   "cell_type": "code",
   "execution_count": 4,
   "id": "b5bacc36-e5ae-4db2-a869-5a08dec4d187",
   "metadata": {},
   "outputs": [],
   "source": [
    "def get_movie():\n",
    "    title_to_find = input(\"Enter Movie Title to search: \").strip()\n",
    "    found = False\n",
    "    for idx, movie in enumerate(movie_db):\n",
    "        if movie[\"Title\"].lower() == title_to_find.lower():\n",
    "            print_movie(movie)\n",
    "            found = True\n",
    "    if not found:\n",
    "        print(\"❌ No movie found with that title.\\n\")"
   ]
  },
  {
   "cell_type": "markdown",
   "id": "25f05e15-734f-4de4-9d1e-2a959d4153f9",
   "metadata": {},
   "source": [
    "## (iii) Show All Movies"
   ]
  },
  {
   "cell_type": "code",
   "execution_count": 5,
   "id": "c51ddbfd-922b-4051-8711-880db0052c7f",
   "metadata": {},
   "outputs": [],
   "source": [
    "def show_all_movies():\n",
    "    if not movie_db:\n",
    "        print(\"No movies in database.\\n\")\n",
    "        return\n",
    "    for idx, movie in enumerate(movie_db, 1):\n",
    "        print(f\"Movie {idx}:\")\n",
    "        print_movie(movie)"
   ]
  },
  {
   "cell_type": "markdown",
   "id": "1d4be4ff-d097-4679-99ea-aa7985dcdffd",
   "metadata": {},
   "source": [
    "## (iv) Search by Director"
   ]
  },
  {
   "cell_type": "code",
   "execution_count": 6,
   "id": "3c93cc01-bf20-4cb8-9fac-c9f96a3d76b8",
   "metadata": {},
   "outputs": [],
   "source": [
    "def get_by_director():\n",
    "    director_to_find = input(\"Enter Director name: \").strip()\n",
    "    found = False\n",
    "    for idx, movie in enumerate(movie_db):\n",
    "        if movie[\"Details\"][\"Director\"].lower() == director_to_find.lower():\n",
    "            print_movie(movie)\n",
    "            found = True\n",
    "    if not found:\n",
    "        print(\"❌ No movies found for that director.\\n\")"
   ]
  },
  {
   "cell_type": "markdown",
   "id": "91818fd1-8893-427c-91bf-0b410122cc43",
   "metadata": {},
   "source": [
    "## (v) Search by Language"
   ]
  },
  {
   "cell_type": "code",
   "execution_count": 7,
   "id": "cf2e3c01-2668-48fc-a1c4-75c63eebdb91",
   "metadata": {},
   "outputs": [],
   "source": [
    "def get_by_language():\n",
    "    language_to_find = input(\"Enter Language: \").strip()\n",
    "    found = False\n",
    "    for idx, movie in enumerate(movie_db):\n",
    "        if movie[\"Details\"][\"Language\"].lower() == language_to_find.lower():\n",
    "            print_movie(movie)\n",
    "            found = True\n",
    "    if not found:\n",
    "        print(\"❌ No movies found in that language.\\n\")"
   ]
  },
  {
   "cell_type": "markdown",
   "id": "5e9bbbc1-77a6-42a2-b8fa-da11ec150ea0",
   "metadata": {},
   "source": [
    "## (vi) Search by Year"
   ]
  },
  {
   "cell_type": "code",
   "execution_count": 8,
   "id": "8b2654cb-e4ca-4474-ba20-25eee737d904",
   "metadata": {},
   "outputs": [],
   "source": [
    "def get_by_year():\n",
    "    year_to_find = int(input(\"Enter Release Year: \"))\n",
    "    found = False\n",
    "    for idx, movie in enumerate(movie_db):\n",
    "        if movie[\"Details\"][\"Year\"] == year_to_find:\n",
    "            print_movie(movie)\n",
    "            found = True\n",
    "    if not found:\n",
    "        print(\"❌ No movies found from that year.\\n\")"
   ]
  },
  {
   "cell_type": "markdown",
   "id": "d59b3a01-c26e-4db4-b9d2-fd10881db8fc",
   "metadata": {},
   "source": [
    "## (vii) Search by Rating"
   ]
  },
  {
   "cell_type": "code",
   "execution_count": 9,
   "id": "d05082d7-e507-4595-8632-593843ffc292",
   "metadata": {},
   "outputs": [],
   "source": [
    "def get_by_rating():\n",
    "    min_rating = float(input(\"Enter minimum rating: \"))\n",
    "    found = False\n",
    "    for idx, movie in enumerate(movie_db):\n",
    "        if movie[\"Details\"][\"Rating\"] >= min_rating:\n",
    "            print_movie(movie)\n",
    "            found = True\n",
    "    if not found:\n",
    "        print(\"❌ No movies found with that rating or higher.\\n\")"
   ]
  },
  {
   "cell_type": "markdown",
   "id": "68ce8327-1172-4700-a367-ed4d759d1810",
   "metadata": {},
   "source": [
    "## (viii) Show Last N Movies"
   ]
  },
  {
   "cell_type": "code",
   "execution_count": 10,
   "id": "188033f6-b337-48c5-bde7-0a84bac65419",
   "metadata": {},
   "outputs": [],
   "source": [
    "def show_last_n_movies():\n",
    "    if not movie_db:\n",
    "        print(\"No movies in database.\\n\")\n",
    "        return\n",
    "    n = int(input(\"How many recent movies? \"))\n",
    "    for idx, movie in enumerate(movie_db[-n:], 1):\n",
    "        print(f\"Movie {idx}:\")\n",
    "        print_movie(movie)"
   ]
  },
  {
   "cell_type": "markdown",
   "id": "3a2e5e2e-e0f1-42cb-9887-930c2e517619",
   "metadata": {},
   "source": [
    "## Main Menu"
   ]
  },
  {
   "cell_type": "code",
   "execution_count": 11,
   "id": "ce5fdf42-3d9b-46e5-9431-118ea27594c8",
   "metadata": {},
   "outputs": [
    {
     "name": "stdout",
     "output_type": "stream",
     "text": [
      "\n",
      "------ Movie Database Menu ------\n",
      "1. Add movie\n",
      "2. Get movie by name\n",
      "3. Get all movies\n",
      "4. Find by director\n",
      "5. Find by language\n",
      "6. Find by year\n",
      "7. Find by rating\n",
      "8. Show last N movies\n",
      "9. Exit\n",
      "\n"
     ]
    },
    {
     "name": "stdin",
     "output_type": "stream",
     "text": [
      "Choose an option (1-9):  1\n",
      "Enter Movie Title:  Inception\n",
      "Enter Director:  Christopher Nolan\n",
      "Enter Rating (out of 10):  8.8\n",
      "Enter Genre:  Science Fiction\n",
      "Enter Year of Release:  2010\n",
      "Enter Duration (min):  148\n",
      "Enter Budget:  160\n",
      "Enter Language:  English\n"
     ]
    },
    {
     "name": "stdout",
     "output_type": "stream",
     "text": [
      "✅ Movie 'Inception' added!\n",
      "\n",
      "\n",
      "------ Movie Database Menu ------\n",
      "1. Add movie\n",
      "2. Get movie by name\n",
      "3. Get all movies\n",
      "4. Find by director\n",
      "5. Find by language\n",
      "6. Find by year\n",
      "7. Find by rating\n",
      "8. Show last N movies\n",
      "9. Exit\n",
      "\n"
     ]
    },
    {
     "name": "stdin",
     "output_type": "stream",
     "text": [
      "Choose an option (1-9):  1\n",
      "Enter Movie Title:  Parasite\n",
      "Enter Director:  Bong Joon-ho\n",
      "Enter Rating (out of 10):  8.6\n",
      "Enter Genre:  Thriller\n",
      "Enter Year of Release:  2019\n",
      "Enter Duration (min):  132\n",
      "Enter Budget:  11\n",
      "Enter Language:  Korean\n"
     ]
    },
    {
     "name": "stdout",
     "output_type": "stream",
     "text": [
      "✅ Movie 'Parasite' added!\n",
      "\n",
      "\n",
      "------ Movie Database Menu ------\n",
      "1. Add movie\n",
      "2. Get movie by name\n",
      "3. Get all movies\n",
      "4. Find by director\n",
      "5. Find by language\n",
      "6. Find by year\n",
      "7. Find by rating\n",
      "8. Show last N movies\n",
      "9. Exit\n",
      "\n"
     ]
    },
    {
     "name": "stdin",
     "output_type": "stream",
     "text": [
      "Choose an option (1-9):  1\n",
      "Enter Movie Title:  Interstellar\n",
      "Enter Director:  Christopher Nolan\n",
      "Enter Rating (out of 10):  8.6\n",
      "Enter Genre:  Science Fiction\n",
      "Enter Year of Release:  2014\n",
      "Enter Duration (min):  169\n",
      "Enter Budget:  165\n",
      "Enter Language:  English\n"
     ]
    },
    {
     "name": "stdout",
     "output_type": "stream",
     "text": [
      "✅ Movie 'Interstellar' added!\n",
      "\n",
      "\n",
      "------ Movie Database Menu ------\n",
      "1. Add movie\n",
      "2. Get movie by name\n",
      "3. Get all movies\n",
      "4. Find by director\n",
      "5. Find by language\n",
      "6. Find by year\n",
      "7. Find by rating\n",
      "8. Show last N movies\n",
      "9. Exit\n",
      "\n"
     ]
    },
    {
     "name": "stdin",
     "output_type": "stream",
     "text": [
      "Choose an option (1-9):  1\n",
      "Enter Movie Title:  The Godfather\n",
      "Enter Director:  Francis Ford Coppola\n",
      "Enter Rating (out of 10):  9.2\n",
      "Enter Genre:  Crime\n",
      "Enter Year of Release:  1972\n",
      "Enter Duration (min):  175\n",
      "Enter Budget:  6\n",
      "Enter Language:  English\n"
     ]
    },
    {
     "name": "stdout",
     "output_type": "stream",
     "text": [
      "✅ Movie 'The Godfather' added!\n",
      "\n",
      "\n",
      "------ Movie Database Menu ------\n",
      "1. Add movie\n",
      "2. Get movie by name\n",
      "3. Get all movies\n",
      "4. Find by director\n",
      "5. Find by language\n",
      "6. Find by year\n",
      "7. Find by rating\n",
      "8. Show last N movies\n",
      "9. Exit\n",
      "\n"
     ]
    },
    {
     "name": "stdin",
     "output_type": "stream",
     "text": [
      "Choose an option (1-9):  1\n",
      "Enter Movie Title:  3 Idiots\n",
      "Enter Director:  Rajkumar Hirani\n",
      "Enter Rating (out of 10):  8.4\n",
      "Enter Genre:  Comedy/Drama\n",
      "Enter Year of Release:  2009\n",
      "Enter Duration (min):  170\n",
      "Enter Budget:  12\n",
      "Enter Language:  Hindi\n"
     ]
    },
    {
     "name": "stdout",
     "output_type": "stream",
     "text": [
      "✅ Movie '3 Idiots' added!\n",
      "\n",
      "\n",
      "------ Movie Database Menu ------\n",
      "1. Add movie\n",
      "2. Get movie by name\n",
      "3. Get all movies\n",
      "4. Find by director\n",
      "5. Find by language\n",
      "6. Find by year\n",
      "7. Find by rating\n",
      "8. Show last N movies\n",
      "9. Exit\n",
      "\n"
     ]
    },
    {
     "name": "stdin",
     "output_type": "stream",
     "text": [
      "Choose an option (1-9):  2\n",
      "Enter Movie Title to search:  Parasite\n"
     ]
    },
    {
     "name": "stdout",
     "output_type": "stream",
     "text": [
      "\n",
      "Title: Parasite\n",
      "Director: Bong Joon-ho\n",
      "Rating: 8.6\n",
      "Genre: Thriller\n",
      "Year: 2019\n",
      "Duration: 132 min\n",
      "Budget: 11.0\n",
      "Language: Korean\n",
      "\n",
      "\n",
      "------ Movie Database Menu ------\n",
      "1. Add movie\n",
      "2. Get movie by name\n",
      "3. Get all movies\n",
      "4. Find by director\n",
      "5. Find by language\n",
      "6. Find by year\n",
      "7. Find by rating\n",
      "8. Show last N movies\n",
      "9. Exit\n",
      "\n"
     ]
    },
    {
     "name": "stdin",
     "output_type": "stream",
     "text": [
      "Choose an option (1-9):  3\n"
     ]
    },
    {
     "name": "stdout",
     "output_type": "stream",
     "text": [
      "Movie 1:\n",
      "\n",
      "Title: Inception\n",
      "Director: Christopher Nolan\n",
      "Rating: 8.8\n",
      "Genre: Science Fiction\n",
      "Year: 2010\n",
      "Duration: 148 min\n",
      "Budget: 160.0\n",
      "Language: English\n",
      "\n",
      "Movie 2:\n",
      "\n",
      "Title: Parasite\n",
      "Director: Bong Joon-ho\n",
      "Rating: 8.6\n",
      "Genre: Thriller\n",
      "Year: 2019\n",
      "Duration: 132 min\n",
      "Budget: 11.0\n",
      "Language: Korean\n",
      "\n",
      "Movie 3:\n",
      "\n",
      "Title: Interstellar\n",
      "Director: Christopher Nolan\n",
      "Rating: 8.6\n",
      "Genre: Science Fiction\n",
      "Year: 2014\n",
      "Duration: 169 min\n",
      "Budget: 165.0\n",
      "Language: English\n",
      "\n",
      "Movie 4:\n",
      "\n",
      "Title: The Godfather\n",
      "Director: Francis Ford Coppola\n",
      "Rating: 9.2\n",
      "Genre: Crime\n",
      "Year: 1972\n",
      "Duration: 175 min\n",
      "Budget: 6.0\n",
      "Language: English\n",
      "\n",
      "Movie 5:\n",
      "\n",
      "Title: 3 Idiots\n",
      "Director: Rajkumar Hirani\n",
      "Rating: 8.4\n",
      "Genre: Comedy/Drama\n",
      "Year: 2009\n",
      "Duration: 170 min\n",
      "Budget: 12.0\n",
      "Language: Hindi\n",
      "\n",
      "\n",
      "------ Movie Database Menu ------\n",
      "1. Add movie\n",
      "2. Get movie by name\n",
      "3. Get all movies\n",
      "4. Find by director\n",
      "5. Find by language\n",
      "6. Find by year\n",
      "7. Find by rating\n",
      "8. Show last N movies\n",
      "9. Exit\n",
      "\n"
     ]
    },
    {
     "name": "stdin",
     "output_type": "stream",
     "text": [
      "Choose an option (1-9):  4\n",
      "Enter Director name:  Francis Ford Coppola\n"
     ]
    },
    {
     "name": "stdout",
     "output_type": "stream",
     "text": [
      "\n",
      "Title: The Godfather\n",
      "Director: Francis Ford Coppola\n",
      "Rating: 9.2\n",
      "Genre: Crime\n",
      "Year: 1972\n",
      "Duration: 175 min\n",
      "Budget: 6.0\n",
      "Language: English\n",
      "\n",
      "\n",
      "------ Movie Database Menu ------\n",
      "1. Add movie\n",
      "2. Get movie by name\n",
      "3. Get all movies\n",
      "4. Find by director\n",
      "5. Find by language\n",
      "6. Find by year\n",
      "7. Find by rating\n",
      "8. Show last N movies\n",
      "9. Exit\n",
      "\n"
     ]
    },
    {
     "name": "stdin",
     "output_type": "stream",
     "text": [
      "Choose an option (1-9):  5\n",
      "Enter Language:  Japanese\n"
     ]
    },
    {
     "name": "stdout",
     "output_type": "stream",
     "text": [
      "❌ No movies found in that language.\n",
      "\n",
      "\n",
      "------ Movie Database Menu ------\n",
      "1. Add movie\n",
      "2. Get movie by name\n",
      "3. Get all movies\n",
      "4. Find by director\n",
      "5. Find by language\n",
      "6. Find by year\n",
      "7. Find by rating\n",
      "8. Show last N movies\n",
      "9. Exit\n",
      "\n"
     ]
    },
    {
     "name": "stdin",
     "output_type": "stream",
     "text": [
      "Choose an option (1-9):  5\n",
      "Enter Language:  Korean\n"
     ]
    },
    {
     "name": "stdout",
     "output_type": "stream",
     "text": [
      "\n",
      "Title: Parasite\n",
      "Director: Bong Joon-ho\n",
      "Rating: 8.6\n",
      "Genre: Thriller\n",
      "Year: 2019\n",
      "Duration: 132 min\n",
      "Budget: 11.0\n",
      "Language: Korean\n",
      "\n",
      "\n",
      "------ Movie Database Menu ------\n",
      "1. Add movie\n",
      "2. Get movie by name\n",
      "3. Get all movies\n",
      "4. Find by director\n",
      "5. Find by language\n",
      "6. Find by year\n",
      "7. Find by rating\n",
      "8. Show last N movies\n",
      "9. Exit\n",
      "\n"
     ]
    },
    {
     "name": "stdin",
     "output_type": "stream",
     "text": [
      "Choose an option (1-9):  6\n",
      "Enter Release Year:  2014\n"
     ]
    },
    {
     "name": "stdout",
     "output_type": "stream",
     "text": [
      "\n",
      "Title: Interstellar\n",
      "Director: Christopher Nolan\n",
      "Rating: 8.6\n",
      "Genre: Science Fiction\n",
      "Year: 2014\n",
      "Duration: 169 min\n",
      "Budget: 165.0\n",
      "Language: English\n",
      "\n",
      "\n",
      "------ Movie Database Menu ------\n",
      "1. Add movie\n",
      "2. Get movie by name\n",
      "3. Get all movies\n",
      "4. Find by director\n",
      "5. Find by language\n",
      "6. Find by year\n",
      "7. Find by rating\n",
      "8. Show last N movies\n",
      "9. Exit\n",
      "\n"
     ]
    },
    {
     "name": "stdin",
     "output_type": "stream",
     "text": [
      "Choose an option (1-9):  7\n",
      "Enter minimum rating:  8.7\n"
     ]
    },
    {
     "name": "stdout",
     "output_type": "stream",
     "text": [
      "\n",
      "Title: Inception\n",
      "Director: Christopher Nolan\n",
      "Rating: 8.8\n",
      "Genre: Science Fiction\n",
      "Year: 2010\n",
      "Duration: 148 min\n",
      "Budget: 160.0\n",
      "Language: English\n",
      "\n",
      "\n",
      "Title: The Godfather\n",
      "Director: Francis Ford Coppola\n",
      "Rating: 9.2\n",
      "Genre: Crime\n",
      "Year: 1972\n",
      "Duration: 175 min\n",
      "Budget: 6.0\n",
      "Language: English\n",
      "\n",
      "\n",
      "------ Movie Database Menu ------\n",
      "1. Add movie\n",
      "2. Get movie by name\n",
      "3. Get all movies\n",
      "4. Find by director\n",
      "5. Find by language\n",
      "6. Find by year\n",
      "7. Find by rating\n",
      "8. Show last N movies\n",
      "9. Exit\n",
      "\n"
     ]
    },
    {
     "name": "stdin",
     "output_type": "stream",
     "text": [
      "Choose an option (1-9):  8\n",
      "How many recent movies?  2\n"
     ]
    },
    {
     "name": "stdout",
     "output_type": "stream",
     "text": [
      "Movie 1:\n",
      "\n",
      "Title: The Godfather\n",
      "Director: Francis Ford Coppola\n",
      "Rating: 9.2\n",
      "Genre: Crime\n",
      "Year: 1972\n",
      "Duration: 175 min\n",
      "Budget: 6.0\n",
      "Language: English\n",
      "\n",
      "Movie 2:\n",
      "\n",
      "Title: 3 Idiots\n",
      "Director: Rajkumar Hirani\n",
      "Rating: 8.4\n",
      "Genre: Comedy/Drama\n",
      "Year: 2009\n",
      "Duration: 170 min\n",
      "Budget: 12.0\n",
      "Language: Hindi\n",
      "\n",
      "\n",
      "------ Movie Database Menu ------\n",
      "1. Add movie\n",
      "2. Get movie by name\n",
      "3. Get all movies\n",
      "4. Find by director\n",
      "5. Find by language\n",
      "6. Find by year\n",
      "7. Find by rating\n",
      "8. Show last N movies\n",
      "9. Exit\n",
      "\n"
     ]
    },
    {
     "name": "stdin",
     "output_type": "stream",
     "text": [
      "Choose an option (1-9):  10\n"
     ]
    },
    {
     "name": "stdout",
     "output_type": "stream",
     "text": [
      "Invalid option.\n",
      "\n",
      "\n",
      "------ Movie Database Menu ------\n",
      "1. Add movie\n",
      "2. Get movie by name\n",
      "3. Get all movies\n",
      "4. Find by director\n",
      "5. Find by language\n",
      "6. Find by year\n",
      "7. Find by rating\n",
      "8. Show last N movies\n",
      "9. Exit\n",
      "\n"
     ]
    },
    {
     "name": "stdin",
     "output_type": "stream",
     "text": [
      "Choose an option (1-9):  9\n"
     ]
    },
    {
     "name": "stdout",
     "output_type": "stream",
     "text": [
      "Bye!\n"
     ]
    }
   ],
   "source": [
    "def main_menu():\n",
    "    while True:\n",
    "        print(\"\"\"\n",
    "------ Movie Database Menu ------\n",
    "1. Add movie\n",
    "2. Get movie by name\n",
    "3. Get all movies\n",
    "4. Find by director\n",
    "5. Find by language\n",
    "6. Find by year\n",
    "7. Find by rating\n",
    "8. Show last N movies\n",
    "9. Exit\n",
    "\"\"\")\n",
    "        ch = input(\"Choose an option (1-9): \")\n",
    "        if ch == '1': add_movie()\n",
    "        elif ch == '2': get_movie()\n",
    "        elif ch == '3': show_all_movies()\n",
    "        elif ch == '4': get_by_director()\n",
    "        elif ch == '5': get_by_language()\n",
    "        elif ch == '6': get_by_year()\n",
    "        elif ch == '7': get_by_rating()\n",
    "        elif ch == '8': show_last_n_movies()\n",
    "        elif ch == '9':\n",
    "            print(\"Bye!\")\n",
    "            break\n",
    "        else:\n",
    "            print(\"Invalid option.\\n\")\n",
    "\n",
    "if __name__ == \"__main__\":\n",
    "    main_menu()"
   ]
  },
  {
   "cell_type": "code",
   "execution_count": null,
   "id": "4360578f-594f-4519-8411-4792cca2f134",
   "metadata": {},
   "outputs": [],
   "source": []
  }
 ],
 "metadata": {
  "kernelspec": {
   "display_name": "Python 3 (ipykernel)",
   "language": "python",
   "name": "python3"
  },
  "language_info": {
   "codemirror_mode": {
    "name": "ipython",
    "version": 3
   },
   "file_extension": ".py",
   "mimetype": "text/x-python",
   "name": "python",
   "nbconvert_exporter": "python",
   "pygments_lexer": "ipython3",
   "version": "3.12.6"
  }
 },
 "nbformat": 4,
 "nbformat_minor": 5
}
