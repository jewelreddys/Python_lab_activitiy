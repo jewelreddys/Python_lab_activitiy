{
 "cells": [
  {
   "cell_type": "code",
   "execution_count": 1,
   "id": "5f5c26b7-e5ab-42d8-a5ba-821a071cb779",
   "metadata": {},
   "outputs": [
    {
     "name": "stdout",
     "output_type": "stream",
     "text": [
      "10\n"
     ]
    }
   ],
   "source": [
    "def double(x):\n",
    "    return x * 2\n",
    "\n",
    "def add(x, y):\n",
    "    return x + y\n",
    "\n",
    "x = double(5)      # or any value you like\n",
    "print(x)"
   ]
  },
  {
   "cell_type": "code",
   "execution_count": 2,
   "id": "754dd1be-77c8-4da4-8ab1-6b0c00c14185",
   "metadata": {},
   "outputs": [],
   "source": [
    "def mx(x, y):\n",
    "    if x > y:\n",
    "        return x\n",
    "    else:\n",
    "        return \n",
    "#Returns the larger of two numbers\n"
   ]
  },
  {
   "cell_type": "code",
   "execution_count": 3,
   "id": "5b66dffd-f023-4516-8d1b-c2d881a73292",
   "metadata": {},
   "outputs": [
    {
     "name": "stdout",
     "output_type": "stream",
     "text": [
      "10\n",
      "8\n"
     ]
    }
   ],
   "source": [
    "print(mx(10, 5))   # Output: 10\n",
    "print(mx(3, 8))    # Output: 8\n"
   ]
  },
  {
   "cell_type": "code",
   "execution_count": 4,
   "id": "17db1172-6f17-4b23-9b1d-ff417f157450",
   "metadata": {},
   "outputs": [
    {
     "name": "stdout",
     "output_type": "stream",
     "text": [
      "[1, 2, 3, 4, 5]\n"
     ]
    }
   ],
   "source": [
    "nums=[]\n",
    "for i in range(1,6):\n",
    "    nums.append(i)\n",
    "print(nums)\n",
    "#Builds a list using a loop"
   ]
  },
  {
   "cell_type": "code",
   "execution_count": 5,
   "id": "8869ce46-b8ce-4b90-9c80-cda25e153f3b",
   "metadata": {},
   "outputs": [
    {
     "ename": "TypeError",
     "evalue": "'int' object is not callable",
     "output_type": "error",
     "traceback": [
      "\u001b[0;31m---------------------------------------------------------------------------\u001b[0m",
      "\u001b[0;31mTypeError\u001b[0m                                 Traceback (most recent call last)",
      "Cell \u001b[0;32mIn[5], line 3\u001b[0m\n\u001b[1;32m      1\u001b[0m n\u001b[38;5;241m=\u001b[39m\u001b[38;5;241m64893022\u001b[39m\n\u001b[1;32m      2\u001b[0m \u001b[38;5;28;01mfor\u001b[39;00m x \u001b[38;5;129;01min\u001b[39;00m \u001b[38;5;28mrange\u001b[39m(n):\n\u001b[0;32m----> 3\u001b[0m     \u001b[38;5;28mprint\u001b[39m(\u001b[43mn\u001b[49m\u001b[43m(\u001b[49m\u001b[43mx\u001b[49m\u001b[43m)\u001b[49m)\n",
      "\u001b[0;31mTypeError\u001b[0m: 'int' object is not callable"
     ]
    }
   ],
   "source": [
    "n=64893022\n",
    "for x in range(n):\n",
    "    print(n(x))\n"
   ]
  },
  {
   "cell_type": "code",
   "execution_count": null,
   "id": "ff39b409-5afe-4b81-9c21-b6246539525f",
   "metadata": {},
   "outputs": [],
   "source": [
    "c=456789\n",
    "digits =[int(d) for  d in str(c)]\n",
    "print(digits)"
   ]
  },
  {
   "cell_type": "code",
   "execution_count": null,
   "id": "11d08ab5-1c39-47b3-8a46-b417fe18bddb",
   "metadata": {},
   "outputs": [],
   "source": [
    "names=['Ema','Tom','Hinton']\n",
    "l=names.__iter__()\n",
    "print(dir(names))"
   ]
  },
  {
   "cell_type": "code",
   "execution_count": null,
   "id": "1139a838-44a9-4ebb-8224-c1eb191aabaa",
   "metadata": {},
   "outputs": [],
   "source": [
    "Looper=iter(names)\n",
    "while True:\n",
    "    try:\n",
    "        name=next(Looper)\n",
    "        print(name)\n",
    "    except StopIterartion:\n",
    "        break"
   ]
  },
  {
   "cell_type": "code",
   "execution_count": null,
   "id": "d214f77f-9431-4825-9a78-30ace34c6422",
   "metadata": {},
   "outputs": [],
   "source": []
  },
  {
   "cell_type": "code",
   "execution_count": null,
   "id": "8e2acfc3-4a85-403e-afd7-c3df677c0e7f",
   "metadata": {},
   "outputs": [],
   "source": [
    "l2 = 1__iter__()"
   ]
  },
  {
   "cell_type": "code",
   "execution_count": null,
   "id": "955a06a8-6bfd-44a6-8da4-4fc1a82b8145",
   "metadata": {},
   "outputs": [],
   "source": [
    "names =['Ema','Tom','Hinton']\n",
    "12 ==names.__iter__()"
   ]
  },
  {
   "cell_type": "code",
   "execution_count": null,
   "id": "9ce13a50-641e-447b-8f78-b74f882b8008",
   "metadata": {},
   "outputs": [],
   "source": [
    "print(12,type(names),type(12))"
   ]
  },
  {
   "cell_type": "code",
   "execution_count": null,
   "id": "d9da0647-5693-4fe0-aea2-ea0a1ecd9591",
   "metadata": {},
   "outputs": [],
   "source": [
    "print (next(12))"
   ]
  },
  {
   "cell_type": "code",
   "execution_count": null,
   "id": "89d93abd-9ec7-43a6-b584-16ab519e0666",
   "metadata": {},
   "outputs": [],
   "source": [
    "def square (x):\n",
    "    return x*x\n",
    "l=[1,2,3,4,5]\n",
    "print(map(square,l))\n",
    "print(list(map(square,l)))\n",
    "#Squares each element in the list using map()"
   ]
  },
  {
   "cell_type": "code",
   "execution_count": null,
   "id": "73a3ff6f-f29a-4981-bbbb-8428a9fa2bf3",
   "metadata": {},
   "outputs": [],
   "source": [
    "#map and lambda\n",
    "l=[1,2,3,4,5]\n",
    "r=list(map(lambda x:  x**2,l))\n",
    "print(r)"
   ]
  },
  {
   "cell_type": "code",
   "execution_count": null,
   "id": "435bbdbc-9c4d-459a-aa4b-930da24466d9",
   "metadata": {},
   "outputs": [],
   "source": [
    "#filters allows element which only satifies the condition provided\n",
    "l=[1,2,3,4,5]\n",
    "print(list(filter(lambda x:x>3,l)))"
   ]
  },
  {
   "cell_type": "code",
   "execution_count": null,
   "id": "a996316c-f10d-4562-8f88-ba4784b48fea",
   "metadata": {},
   "outputs": [],
   "source": [
    "#function which accepts strings and convert uppercase to lower case using map\n",
    "def to_lower_with_map(text):\n",
    "    return ' '.join(map(str.lower,text))\n"
   ]
  },
  {
   "cell_type": "code",
   "execution_count": null,
   "id": "9b2fa59c-cb82-4028-97e6-048159ca57a6",
   "metadata": {},
   "outputs": [],
   "source": [
    "print(to_lower_with_map(\"HeLLo WOrLD!\"))"
   ]
  },
  {
   "cell_type": "code",
   "execution_count": null,
   "id": "5e565afa-6d02-4d53-bf3c-f2914cd8a7c2",
   "metadata": {},
   "outputs": [],
   "source": [
    "#An iterable is any object we can loop over or pass to functions like iter(),lsit(),etc\n",
    "#What are NOT iterables\n",
    "#These are not directly iterable (we cannot use them in a for loop or pass to iter() without converting"
   ]
  },
  {
   "cell_type": "code",
   "execution_count": null,
   "id": "5b774450-cb5d-4d58-8073-5539c597d9b6",
   "metadata": {},
   "outputs": [],
   "source": []
  }
 ],
 "metadata": {
  "kernelspec": {
   "display_name": "anaconda-2024.02-py310",
   "language": "python",
   "name": "conda-env-anaconda-2024.02-py310-py"
  },
  "language_info": {
   "codemirror_mode": {
    "name": "ipython",
    "version": 3
   },
   "file_extension": ".py",
   "mimetype": "text/x-python",
   "name": "python",
   "nbconvert_exporter": "python",
   "pygments_lexer": "ipython3",
   "version": "3.10.14"
  }
 },
 "nbformat": 4,
 "nbformat_minor": 5
}
